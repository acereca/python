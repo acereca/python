{
 "cells": [
  {
   "cell_type": "markdown",
   "metadata": {},
   "source": [
    "# Versuch 222: Heißluftmotor"
   ]
  },
  {
   "cell_type": "code",
   "execution_count": 1,
   "metadata": {
    "collapsed": false
   },
   "outputs": [
    {
     "data": {
      "text/plain": [
       "'file = np.genfromtxt(\"data.txt\",skip_header=1).T\\nclean = np.array([])\\nval = []\\ncol = []\\nfor i in range(4):\\n    val.append(np.mean(file[2][(3*i):(3*i+2)]))\\n    col.append(file[0][3*i])\\n\\nclean = np.asarray((col,val))\\nplt.errorbar(clean[0],clean[1],linestyle=\\'none\\',marker=\\'x\\')'"
      ]
     },
     "execution_count": 1,
     "metadata": {},
     "output_type": "execute_result"
    }
   ],
   "source": [
    "%matplotlib inline\n",
    "from helper import *\n",
    "import numpy as np\n",
    "import matplotlib.pyplot as plt\n",
    "\n",
    "'''file = np.genfromtxt(\"data.txt\",skip_header=1).T\n",
    "clean = np.array([])\n",
    "val = []\n",
    "col = []\n",
    "for i in range(4):\n",
    "    val.append(np.mean(file[2][(3*i):(3*i+2)]))\n",
    "    col.append(file[0][3*i])\n",
    "\n",
    "clean = np.asarray((col,val))\n",
    "plt.errorbar(clean[0],clean[1],linestyle='none',marker='x')'''"
   ]
  },
  {
   "cell_type": "markdown",
   "metadata": {},
   "source": [
    "## Teil 1"
   ]
  },
  {
   "cell_type": "code",
   "execution_count": 2,
   "metadata": {
    "collapsed": false
   },
   "outputs": [
    {
     "data": {
      "text/plain": [
       "0.14142135623730953"
      ]
     },
     "execution_count": 2,
     "metadata": {},
     "output_type": "execute_result"
    }
   ],
   "source": [
    "np.sqrt(2)*.1"
   ]
  },
  {
   "cell_type": "code",
   "execution_count": 3,
   "metadata": {
    "collapsed": false
   },
   "outputs": [
    {
     "data": {
      "text/plain": [
       "(4.091666666666667, 0.025, 4.716666666666667, 0.016666666666666666)"
      ]
     },
     "execution_count": 3,
     "metadata": {},
     "output_type": "execute_result"
    }
   ],
   "source": [
    "245.5/60,1.5/60,283/60,1/60"
   ]
  },
  {
   "cell_type": "code",
   "execution_count": 4,
   "metadata": {
    "collapsed": false
   },
   "outputs": [],
   "source": [
    "cw= 4187\n",
    "rho= .001\n",
    "f = 283\n",
    "t= 2.9\n",
    "dv= 245.5\n",
    "im= 5*1.08\n",
    "um = 5.18\n",
    "dim = 5*.01\n",
    "dum =.01"
   ]
  },
  {
   "cell_type": "code",
   "execution_count": 10,
   "metadata": {
    "collapsed": false
   },
   "outputs": [
    {
     "name": "stdout",
     "output_type": "stream",
     "text": [
      "P_k: ( 27.972 +/- 0.27492406224264915 ) J/s\n"
     ]
    }
   ],
   "source": [
    "pk = um*im\n",
    "dpk = np.sqrt((dum*um)**2+(dim*im)**2)\n",
    "printResult(\"P_k\",pk,dpk,\"J/s\")"
   ]
  },
  {
   "cell_type": "code",
   "execution_count": 6,
   "metadata": {
    "collapsed": false
   },
   "outputs": [
    {
     "name": "stdout",
     "output_type": "stream",
     "text": [
      "Q_1: ( 10.533337985865725 +/- 9.960951178926736 ) J\n"
     ]
    }
   ],
   "source": [
    "q1 = cw * rho * t * dv / f\n",
    "dq1 = f*np.sqrt((.1/t)**2+(1.5/dv)**2+(1/f)**2)\n",
    "printResult(\"Q_1\",q1,dq1,\"J\")"
   ]
  },
  {
   "cell_type": "code",
   "execution_count": 7,
   "metadata": {
    "collapsed": false
   },
   "outputs": [
    {
     "name": "stdout",
     "output_type": "stream",
     "text": [
      "W_m: ( 21.02756183745583 +/- 0.12945399110015798 ) J\n"
     ]
    }
   ],
   "source": [
    "pm=99.18\n",
    "wm=pm/f*60\n",
    "dwm=wm*np.sqrt((.5/pm)**2+(1/f)**2)\n",
    "printResult(\"W_m\",wm,dwm,\"J\")"
   ]
  },
  {
   "cell_type": "code",
   "execution_count": 16,
   "metadata": {
    "collapsed": false
   },
   "outputs": [
    {
     "name": "stdout",
     "output_type": "stream",
     "text": [
      "Q_2: ( 5.930459363957598 +/- 1.6305606443181404 ) J\n"
     ]
    }
   ],
   "source": [
    "q2 = um*im/f*60\n",
    "dq2= np.sqrt((dum*um)**2+(dim*im)**2+(1/f)**2)*q2\n",
    "printResult(\"Q_2\",q2,dq2,\"J\")"
   ]
  },
  {
   "cell_type": "code",
   "execution_count": 17,
   "metadata": {
    "collapsed": false
   },
   "outputs": [
    {
     "name": "stdout",
     "output_type": "stream",
     "text": [
      "eta: 0.28203266787658804 +/- 0.0775634075131014\n"
     ]
    }
   ],
   "source": [
    "eta = q2/wm\n",
    "deta = np.sqrt((dq2/q2)**2+(dwm/wm)**2)*eta\n",
    "printResult(\"eta\",eta,deta,\"\")"
   ]
  },
  {
   "cell_type": "markdown",
   "metadata": {},
   "source": [
    "## Teil 2"
   ]
  },
  {
   "cell_type": "code",
   "execution_count": 22,
   "metadata": {
    "collapsed": false
   },
   "outputs": [
    {
     "name": "stdout",
     "output_type": "stream",
     "text": [
      "P_k: ( 2.09375 +/- 0.2097835369738386 ) J/s\n"
     ]
    }
   ],
   "source": [
    "mw=1 \n",
    "dmw = .1\n",
    "lamb=335 \n",
    "t=160\n",
    "dt=1\n",
    "\n",
    "pk=mw*lamb/t\n",
    "dpk = np.sqrt((dmw/mw)**2+(dt/t)**2)*pk\n",
    "printResult(\"P_k\",pk,dpk,\"J/s\")"
   ]
  },
  {
   "cell_type": "code",
   "execution_count": null,
   "metadata": {
    "collapsed": true
   },
   "outputs": [],
   "source": []
  }
 ],
 "metadata": {
  "kernelspec": {
   "display_name": "Python 3",
   "language": "python",
   "name": "python3"
  },
  "language_info": {
   "codemirror_mode": {
    "name": "ipython",
    "version": 3
   },
   "file_extension": ".py",
   "mimetype": "text/x-python",
   "name": "python",
   "nbconvert_exporter": "python",
   "pygments_lexer": "ipython3",
   "version": "3.5.1"
  }
 },
 "nbformat": 4,
 "nbformat_minor": 0
}
