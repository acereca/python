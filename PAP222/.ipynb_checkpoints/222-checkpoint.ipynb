{
 "cells": [
  {
   "cell_type": "markdown",
   "metadata": {},
   "source": [
    "# Versuch 222: Heißluftmotor"
   ]
  },
  {
   "cell_type": "code",
   "execution_count": 1,
   "metadata": {
    "collapsed": false
   },
   "outputs": [],
   "source": [
    "%matplotlib inline\n",
    "from helper import *\n",
    "import numpy as np\n",
    "import matplotlib.pyplot as plt"
   ]
  },
  {
   "cell_type": "markdown",
   "metadata": {},
   "source": [
    "## Teil 1: Kältemaschiene"
   ]
  },
  {
   "cell_type": "code",
   "execution_count": 2,
   "metadata": {
    "collapsed": false
   },
   "outputs": [
    {
     "data": {
      "text/plain": [
       "0.14142135623730953"
      ]
     },
     "execution_count": 2,
     "metadata": {},
     "output_type": "execute_result"
    }
   ],
   "source": [
    "np.sqrt(2)*.1"
   ]
  },
  {
   "cell_type": "code",
   "execution_count": 3,
   "metadata": {
    "collapsed": false
   },
   "outputs": [
    {
     "data": {
      "text/plain": [
       "(4.091666666666667, 0.025, 4.716666666666667, 0.016666666666666666)"
      ]
     },
     "execution_count": 3,
     "metadata": {},
     "output_type": "execute_result"
    }
   ],
   "source": [
    "245.5/60,1.5/60,283/60,1/60"
   ]
  },
  {
   "cell_type": "code",
   "execution_count": 4,
   "metadata": {
    "collapsed": false
   },
   "outputs": [],
   "source": [
    "cw = 4187\n",
    "rho = .001\n",
    "f = 283\n",
    "t = 2.9\n",
    "dv = 245.5\n",
    "im = 5*1.08\n",
    "um = 5.18\n",
    "dim = 5*.01\n",
    "dum =.01"
   ]
  },
  {
   "cell_type": "code",
   "execution_count": 5,
   "metadata": {
    "collapsed": false
   },
   "outputs": [
    {
     "name": "stdout",
     "output_type": "stream",
     "text": [
      "P_k: ( 27.972 +/- 0.27492406224264915 ) J/s\n"
     ]
    }
   ],
   "source": [
    "pk = um*im\n",
    "dpk = np.sqrt((dum*um)**2+(dim*im)**2)\n",
    "printResult(\"P_k\",pk,dpk,\"J/s\")"
   ]
  },
  {
   "cell_type": "code",
   "execution_count": 6,
   "metadata": {
    "collapsed": false
   },
   "outputs": [
    {
     "name": "stdout",
     "output_type": "stream",
     "text": [
      "Q_1: ( 10.533337985865725 +/- 9.960951178926736 ) J\n"
     ]
    }
   ],
   "source": [
    "q1 = cw * rho * t * dv / f\n",
    "dq1 = f*np.sqrt((.1/t)**2+(1.5/dv)**2+(1/f)**2)\n",
    "printResult(\"Q_1\",q1,dq1,\"J\")"
   ]
  },
  {
   "cell_type": "code",
   "execution_count": 7,
   "metadata": {
    "collapsed": false
   },
   "outputs": [
    {
     "name": "stdout",
     "output_type": "stream",
     "text": [
      "W_m: ( 21.02756183745583 +/- 0.12945399110015798 ) J\n"
     ]
    }
   ],
   "source": [
    "pm = 99.18\n",
    "wm = pm/f*60\n",
    "dwm = wm*np.sqrt((.5/pm)**2+(1/f)**2)\n",
    "printResult(\"W_m\",wm,dwm,\"J\")"
   ]
  },
  {
   "cell_type": "code",
   "execution_count": 8,
   "metadata": {
    "collapsed": false
   },
   "outputs": [
    {
     "name": "stdout",
     "output_type": "stream",
     "text": [
      "Q_2: ( 5.930459363957598 +/- 1.6305606443181404 ) J\n"
     ]
    }
   ],
   "source": [
    "q2 = um*im/f*60\n",
    "dq2 = np.sqrt((dum*um)**2+(dim*im)**2+(1/f)**2)*q2\n",
    "printResult(\"Q_2\",q2,dq2,\"J\")"
   ]
  },
  {
   "cell_type": "code",
   "execution_count": 9,
   "metadata": {
    "collapsed": false
   },
   "outputs": [
    {
     "name": "stdout",
     "output_type": "stream",
     "text": [
      "eta: 0.28203266787658804 +/- 0.0775634075131014\n"
     ]
    }
   ],
   "source": [
    "eta = q2/wm\n",
    "deta = np.sqrt((dq2/q2)**2+(dwm/wm)**2)*eta\n",
    "printResult(\"eta\",eta,deta,\"\")"
   ]
  },
  {
   "cell_type": "markdown",
   "metadata": {},
   "source": [
    "## Teil 2: Kältemaschiene und Wärmepumpe"
   ]
  },
  {
   "cell_type": "code",
   "execution_count": 10,
   "metadata": {
    "collapsed": false
   },
   "outputs": [
    {
     "name": "stdout",
     "output_type": "stream",
     "text": [
      "P_k: ( 2.392857142857143 +/- 0.29405907800604897 ) J/s\n"
     ]
    }
   ],
   "source": [
    "mw = 1 \n",
    "dmw = .1\n",
    "lamb = 335 \n",
    "t = 140\n",
    "dt = 10\n",
    "\n",
    "pk = mw*lamb/t\n",
    "dpk = np.sqrt((dmw/mw)**2+(dt/t)**2)*pk\n",
    "printResult(\"P_k\",pk,dpk,\"J/s\")"
   ]
  },
  {
   "cell_type": "markdown",
   "metadata": {
    "collapsed": true
   },
   "source": [
    "## Teil 3: Wärmekraftmaschiene"
   ]
  },
  {
   "cell_type": "code",
   "execution_count": 11,
   "metadata": {
    "collapsed": false
   },
   "outputs": [
    {
     "name": "stdout",
     "output_type": "stream",
     "text": [
      "f: ( 363.5 +/- 1 ) rpm\n",
      "f: ( 6.058333333333334 +/- 0.016666666666666666 ) rps\n"
     ]
    }
   ],
   "source": [
    "flist = np.array([364,364.5,362])\n",
    "df = 1\n",
    "ih = 2.62*5\n",
    "dih = .05/2.62*ih\n",
    "uh = 12.05\n",
    "duh = .05\n",
    "\n",
    "f = (np.sum(flist))/3\n",
    "printResult(\"f\",f,df,\"rpm\")\n",
    "df = df/f\n",
    "f = f/60\n",
    "printResult(\"f\",f,df*f,\"rps\")\n",
    "df = df*f"
   ]
  },
  {
   "cell_type": "code",
   "execution_count": 12,
   "metadata": {
    "collapsed": false
   },
   "outputs": [
    {
     "name": "stdout",
     "output_type": "stream",
     "text": [
      "P_el: ( 157.85500000000002 +/- 3.082885215183985 ) J/s\n"
     ]
    }
   ],
   "source": [
    "pel = uh*ih\n",
    "dpel = np.sqrt((duh/uh)**2+(dih/ih)**2)*pel\n",
    "printResult(\"P_el\",pel,dpel,\"J/s\")"
   ]
  },
  {
   "cell_type": "code",
   "execution_count": 13,
   "metadata": {
    "collapsed": false
   },
   "outputs": [
    {
     "name": "stdout",
     "output_type": "stream",
     "text": [
      "Q_el: ( 26.055845942228338 +/- 0.5138906450727512 ) J\n"
     ]
    }
   ],
   "source": [
    "qel = pel/f\n",
    "dqel = qel*np.sqrt((dpel/pel)**2+(df/f)**2)\n",
    "printResult(\"Q_el\",qel,dqel,\"J\")"
   ]
  },
  {
   "cell_type": "code",
   "execution_count": 22,
   "metadata": {
    "collapsed": false
   },
   "outputs": [
    {
     "name": "stdout",
     "output_type": "stream",
     "text": [
      "DT: ( 6.0 +/- 0.04044090409408779 ) °C\n",
      "dV: ( 4.05 +/- 0.025 ) ml/s\n",
      "P_out: ( 101.57399999999998 +/- 0.928352902153534 ) J/s\n"
     ]
    }
   ],
   "source": [
    "cw = 4180\n",
    "tin = 18.6\n",
    "dt = .1\n",
    "tout = 24.6\n",
    "ddtrel = np.sqrt((dt/tin)**2+(dt/tout)**2)\n",
    "printResult(\"DT\",tout-tin,ddtrel*(tout-tin),\"°C\")\n",
    "\n",
    "dv = 243/60 #ml/s\n",
    "ddv = 1.5/60\n",
    "printResult(\"dV\",dv,ddv,\"ml/s\")\n",
    "\n",
    "pout = cw*rho*(tout-tin)*dv\n",
    "dpout = pout * np.sqrt((ddv/dv)**2+(ddtrel)**2)\n",
    "printResult(\"P_out\",pout,dpout,\"J/s\")"
   ]
  },
  {
   "cell_type": "code",
   "execution_count": 15,
   "metadata": {
    "collapsed": false
   },
   "outputs": [
    {
     "name": "stdout",
     "output_type": "stream",
     "text": [
      "Q_out: ( 16.76599724896836 +/- 0.16002681423634502 ) J\n"
     ]
    }
   ],
   "source": [
    "qout = pout/f\n",
    "dqout = qout*np.sqrt((dpout/pout)**2+(df/f)**2)\n",
    "printResult(\"Q_out\",qout,dqout,\"J\")"
   ]
  },
  {
   "cell_type": "code",
   "execution_count": 16,
   "metadata": {
    "collapsed": false
   },
   "outputs": [
    {
     "name": "stdout",
     "output_type": "stream",
     "text": [
      "A: ( 25793.266666666666 +/- 1291.3423782164734 ) hPa*cm^3\n",
      "A: ( 2.5793266666666668 +/- 0.12913423782164735 ) J\n"
     ]
    }
   ],
   "source": [
    "alist = np.array([28240.2,23854.2,25285.4])\n",
    "\n",
    "a = (np.sum(alist))/3\n",
    "da = np.sqrt(np.sum((a-alist)**2)/6)\n",
    "printResult(\"A\",a,da,\"hPa*cm^3\")\n",
    "a = a/10000\n",
    "da = da/10000\n",
    "printResult(\"A\",a,da,\"J\")"
   ]
  },
  {
   "cell_type": "code",
   "execution_count": 17,
   "metadata": {
    "collapsed": false
   },
   "outputs": [
    {
     "name": "stdout",
     "output_type": "stream",
     "text": [
      "P_pv: ( 15.626420722222223 +/- 0.7835184644379543 ) J/s\n"
     ]
    }
   ],
   "source": [
    "ppv = a*f\n",
    "dppv = ppv*np.sqrt((da/a)**2+(df/f)**2)\n",
    "printResult(\"P_pv\",ppv,dppv,\"J/s\")"
   ]
  },
  {
   "cell_type": "code",
   "execution_count": 18,
   "metadata": {
    "collapsed": false
   },
   "outputs": [
    {
     "name": "stdout",
     "output_type": "stream",
     "text": [
      "eta_th: 0.09899224428888677 +/- 0.005326755337710196\n",
      "eta_th: ( 9.899224428888678 +/- 0.5326755337710196 ) %\n"
     ]
    }
   ],
   "source": [
    "eta= a/qel\n",
    "deta = np.sqrt((da/a)**2+(dqel/qel)**2)*eta\n",
    "printResult(\"eta_th\",eta,deta,\"\")\n",
    "eta = eta*100\n",
    "deta = deta *100\n",
    "printResult(\"eta_th\", eta,deta,\"%\")"
   ]
  },
  {
   "cell_type": "code",
   "execution_count": 19,
   "metadata": {
    "collapsed": false
   },
   "outputs": [
    {
     "name": "stdout",
     "output_type": "stream",
     "text": [
      "Q_v: ( 6.71052202659331 +/- 0.553505038591068 ) J\n"
     ]
    }
   ],
   "source": [
    "qv = qel-qout-a\n",
    "dqv = np.sqrt(dqel**2+dqout**2+da**2)\n",
    "printResult(\"Q_v\",qv,dqv,\"J\")"
   ]
  },
  {
   "cell_type": "markdown",
   "metadata": {},
   "source": [
    "## Teil 4: Prony-Zaum"
   ]
  },
  {
   "cell_type": "code",
   "execution_count": 20,
   "metadata": {
    "collapsed": false
   },
   "outputs": [],
   "source": [
    "pel = uh*ih\n",
    "dpel = np.sqrt((duh/uh)**2+(dih/ih)**2)*pel\n",
    "\n",
    "wd = lambda F: 2*np.pi*.25*F\n",
    "dwd = lambda dF: 2*np.pi*.25*dF\n",
    "\n",
    "div = lambda a,b: a/b\n",
    "ddiv = lambda a,da,b,db: div(a,b)*np.sqrt((da/a)**2+(db/b)**2)\n",
    "\n",
    "qel = lambda pel,f: div(pel,f)\n",
    "dqel = lambda pel,dpel,f,df: ddiv(pel,dpel,f,df)\n",
    "\n",
    "etath = lambda a,qel: div(a,qel)\n",
    "detath = lambda a,da,qel,dqel: ddiv(a,da,qel,dqel)\n",
    "\n",
    "etaeff = lambda wd,qel: div(wd,qel)\n",
    "detaeff = lambda wd,dwd,qel,dqel: ddiv(wd,dwd,qel,dqel)\n",
    "\n",
    "file = np.genfromtxt(\"data.txt\",skip_header=1).T\n",
    "file[2] = file[2]/60\n",
    "file[3] = file[3]/60\n",
    "file[4] = file[4]/100000\n"
   ]
  },
  {
   "cell_type": "code",
   "execution_count": 21,
   "metadata": {
    "collapsed": false
   },
   "outputs": [
    {
     "name": "stdout",
     "output_type": "stream",
     "text": [
      "[[  1.31946891e+00   1.31946891e+00   1.31946891e+00   9.73893723e-01\n",
      "    9.73893723e-01   9.73893723e-01   6.28318531e-01   6.28318531e-01\n",
      "    6.28318531e-01   3.14159265e-01   3.14159265e-01   3.14159265e-01]\n",
      " [  3.14159265e-02   3.14159265e-02   3.14159265e-02   3.14159265e-02\n",
      "    3.14159265e-02   3.14159265e-02   3.14159265e-02   3.14159265e-02\n",
      "    3.14159265e-02   3.14159265e-02   3.14159265e-02   3.14159265e-02]\n",
      " [  4.35462069e+01   4.36465438e+01   4.15407895e+01   3.59715154e+01\n",
      "    3.64280769e+01   3.83143204e+01   3.26146694e+01   3.21824669e+01\n",
      "    3.19436762e+01   2.87009091e+01   2.87009091e+01   2.88759146e+01]\n",
      " [  9.01919268e-01   9.04228603e-01   8.56080763e-01   7.31797284e-01\n",
      "    7.41827398e-01   7.83558651e-01   6.58861076e-01   6.49570231e-01\n",
      "    6.44446491e-01   5.75506105e-01   5.75506105e-01   5.79197236e-01]\n",
      " [  3.12334896e-02   3.27537962e-02   3.51271610e-02   6.85203271e-02\n",
      "    4.95971831e-02   3.51155909e-02   3.84645935e-02   4.21813531e-02\n",
      "    4.69642251e-02   4.20342086e-02   4.25394191e-02   5.18705648e-02]\n",
      " [  3.03004328e-02   3.02307766e-02   3.17632123e-02   2.70740254e-02\n",
      "    2.67347004e-02   2.54185305e-02   1.92649057e-02   1.95236286e-02\n",
      "    1.96695749e-02   1.09459691e-02   1.09459691e-02   1.08796299e-02]]\n"
     ]
    }
   ],
   "source": [
    "print(np.array([wd(file[0]),\n",
    "                dwd(file[1]),\n",
    "                qel(pel,file[2]),\n",
    "                dqel(pel,dpel,file[2],file[3]),\n",
    "                etath(file[4],qel(pel,file[2])),\n",
    "                etaeff(wd(file[0]),qel(pel,file[2]))]))"
   ]
  },
  {
   "cell_type": "code",
   "execution_count": null,
   "metadata": {
    "collapsed": true
   },
   "outputs": [],
   "source": []
  }
 ],
 "metadata": {
  "kernelspec": {
   "display_name": "Python 3",
   "language": "python",
   "name": "python3"
  },
  "language_info": {
   "codemirror_mode": {
    "name": "ipython",
    "version": 3
   },
   "file_extension": ".py",
   "mimetype": "text/x-python",
   "name": "python",
   "nbconvert_exporter": "python",
   "pygments_lexer": "ipython3",
   "version": "3.5.1"
  }
 },
 "nbformat": 4,
 "nbformat_minor": 0
}
