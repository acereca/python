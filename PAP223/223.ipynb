{
 "cells": [
  {
   "cell_type": "markdown",
   "metadata": {},
   "source": [
    "# Versuch 223: Brownsche Bewegung\n",
    "\n",
    "\n",
    "## Teil1: Pfad des Partikels"
   ]
  },
  {
   "cell_type": "code",
   "execution_count": 1,
   "metadata": {
    "collapsed": false
   },
   "outputs": [],
   "source": [
    "import matplotlib.pyplot as plt\n",
    "import matplotlib.mlab as mlab\n",
    "import numpy as np\n",
    "from helper import *\n",
    "%matplotlib inline\n",
    "\n",
    "file = np.genfromtxt(\"data/Messung - Schlotthauer Nisble.dat\").T\n",
    "t,x,y = file[1],file[2],file[3]\n",
    "tlist = t"
   ]
  },
  {
   "cell_type": "code",
   "execution_count": 2,
   "metadata": {
    "collapsed": false
   },
   "outputs": [
    {
     "data": {
      "image/png": "[encoded data removed]",
      "text/plain": [
       "<matplotlib.figure.Figure at 0x7fbc43311d68>"
      ]
     },
     "metadata": {},
     "output_type": "display_data"
    }
   ],
   "source": [
    "#plt.figure(figsize=(8,6))\n",
    "plt.errorbar(x,y,marker=\".\")\n",
    "plt.xlabel(\"x [$\\mu$m]\")\n",
    "plt.ylabel(\"y [$\\mu$m]\")\n",
    "plt.xlim((70,92))\n",
    "plt.ylim((38,60))\n",
    "plt.title(\"Brownsche Molekularbewegung\")\n",
    "plt.savefig(\"Pfad - Schlotthauer Nisble\",format=\"pdf\")\n",
    "plt.show()"
   ]
  },
  {
   "cell_type": "markdown",
   "metadata": {},
   "source": [
    "## Teil2: $<r^2>$"
   ]
  },
  {
   "cell_type": "code",
   "execution_count": 3,
   "metadata": {
    "collapsed": true
   },
   "outputs": [],
   "source": [
    "dt=np.array([])\n",
    "dx=np.array([])\n",
    "dy=np.array([])\n",
    "\n",
    "for i in range(len(t)-1): \n",
    "    dt=np.append( dt,t[i+1]-t[i])\n",
    "    dx=np.append( dx,x[i+1]-x[i])\n",
    "    dy=np.append( dy,y[i+1]-y[i])"
   ]
  },
  {
   "cell_type": "code",
   "execution_count": 4,
   "metadata": {
    "collapsed": true
   },
   "outputs": [],
   "source": [
    "r_squared=dx**2+dy**2"
   ]
  },
  {
   "cell_type": "code",
   "execution_count": 5,
   "metadata": {
    "collapsed": false
   },
   "outputs": [
    {
     "data": {
      "text/latex": [
       "$$< r^2>=(1.55074061745\\pm 0.116610662437) \\mu m^2$$"
      ],
      "text/plain": [
       "<IPython.core.display.Math object>"
      ]
     },
     "metadata": {},
     "output_type": "display_data"
    }
   ],
   "source": [
    "r_squared_mean=np.mean(r_squared)\n",
    "r_squared_mean_std=np.std(r_squared)/np.sqrt(len(r_squared))\n",
    "\n",
    "printResult(r\"< r^2>\",r_squared_mean,r_squared_mean_std,\"\\mu m^2\")"
   ]
  },
  {
   "cell_type": "code",
   "execution_count": 6,
   "metadata": {
    "collapsed": false
   },
   "outputs": [
    {
     "data": {
      "text/html": [
       "<div>\n",
       "<table border=\"1\" class=\"dataframe\">\n",
       "  <thead>\n",
       "    <tr style=\"text-align: right;\">\n",
       "      <th></th>\n",
       "      <th>Mw</th>\n",
       "      <th>StdAbw</th>\n",
       "      <th>StdAbw Mw</th>\n",
       "      <th>Min</th>\n",
       "      <th>Max</th>\n",
       "    </tr>\n",
       "  </thead>\n",
       "  <tbody>\n",
       "    <tr>\n",
       "      <th>$\\Delta t$ [s]</th>\n",
       "      <td>1.003208</td>\n",
       "      <td>0.016127</td>\n",
       "      <td>0.006584</td>\n",
       "      <td>1.000000</td>\n",
       "      <td>1.101000</td>\n",
       "    </tr>\n",
       "    <tr>\n",
       "      <th>$\\Delta x$ [$\\mu m$]</th>\n",
       "      <td>-0.011805</td>\n",
       "      <td>0.931815</td>\n",
       "      <td>0.380412</td>\n",
       "      <td>-2.385000</td>\n",
       "      <td>1.927000</td>\n",
       "    </tr>\n",
       "    <tr>\n",
       "      <th>$\\Delta y$ [$\\mu m$]</th>\n",
       "      <td>-0.074034</td>\n",
       "      <td>0.822704</td>\n",
       "      <td>0.335868</td>\n",
       "      <td>-2.477000</td>\n",
       "      <td>2.477000</td>\n",
       "    </tr>\n",
       "    <tr>\n",
       "      <th>$\\Delta x^2$ [$\\mu m^2$]</th>\n",
       "      <td>0.868418</td>\n",
       "      <td>1.027681</td>\n",
       "      <td>0.419549</td>\n",
       "      <td>0.000000</td>\n",
       "      <td>5.688225</td>\n",
       "    </tr>\n",
       "    <tr>\n",
       "      <th>$\\Delta y^2$ [$\\mu m^2$]</th>\n",
       "      <td>0.682323</td>\n",
       "      <td>1.029324</td>\n",
       "      <td>0.420220</td>\n",
       "      <td>0.000000</td>\n",
       "      <td>6.135529</td>\n",
       "    </tr>\n",
       "    <tr>\n",
       "      <th>$r^2$ [$\\mu m^2$]</th>\n",
       "      <td>1.550741</td>\n",
       "      <td>1.423415</td>\n",
       "      <td>0.581107</td>\n",
       "      <td>0.032789</td>\n",
       "      <td>6.900426</td>\n",
       "    </tr>\n",
       "  </tbody>\n",
       "</table>\n",
       "</div>"
      ],
      "text/plain": [
       "                                Mw    StdAbw  StdAbw Mw       Min       Max\n",
       "$\\Delta t$ [s]            1.003208  0.016127   0.006584  1.000000  1.101000\n",
       "$\\Delta x$ [$\\mu m$]     -0.011805  0.931815   0.380412 -2.385000  1.927000\n",
       "$\\Delta y$ [$\\mu m$]     -0.074034  0.822704   0.335868 -2.477000  2.477000\n",
       "$\\Delta x^2$ [$\\mu m^2$]  0.868418  1.027681   0.419549  0.000000  5.688225\n",
       "$\\Delta y^2$ [$\\mu m^2$]  0.682323  1.029324   0.420220  0.000000  6.135529\n",
       "$r^2$ [$\\mu m^2$]         1.550741  1.423415   0.581107  0.032789  6.900426"
      ]
     },
     "execution_count": 6,
     "metadata": {},
     "output_type": "execute_result"
    }
   ],
   "source": [
    "from pandas import DataFrame as df\n",
    "from IPython.display import HTML\n",
    "index = np.array([dt,dx,dy,dx**2,dy**2,r_squared])\n",
    "\n",
    "indexsize = index.T[0].size\n",
    "\n",
    "mean = [np.mean(index[i]) for i in range(indexsize)]\n",
    "std = [np.std(index[i]) for i in range(indexsize)]\n",
    "stdmean = std/np.sqrt(indexsize)\n",
    "mini = [np.min(index[i]) for i in range(indexsize)] \n",
    "maxi = [np.max(index[i]) for i in range(indexsize)] \n",
    "\n",
    "tab = df(np.array((mean,std,stdmean,mini,maxi)).T,\n",
    "   index=[\"$\\Delta t$ [s]\",\"$\\Delta x$ [$\\mu m$]\",\"$\\Delta y$ [$\\mu m$]\",\n",
    "          \"$\\Delta x^2$ [$\\mu m^2$]\",\"$\\Delta y^2$ [$\\mu m^2$]\",\"$r^2$ [$\\mu m^2$]\"],\n",
    "   columns=[\"Mw\",\"StdAbw\",\"StdAbw Mw\",\"Min\",\"Max\"])\n",
    "\n",
    "tab"
   ]
  },
  {
   "cell_type": "markdown",
   "metadata": {},
   "source": [
    "## Teil3: Boltzmann- und Diffusionskonstante"
   ]
  },
  {
   "cell_type": "code",
   "execution_count": 7,
   "metadata": {
    "collapsed": false
   },
   "outputs": [],
   "source": [
    "stdmean = lambda err,n: err/np.sqrt(n)\n",
    "def relerr(dlist,alist):\n",
    "    return np.sqrt(np.sum((np.array(dlist)/np.array(alist))**2))"
   ]
  },
  {
   "cell_type": "code",
   "execution_count": 8,
   "metadata": {
    "collapsed": false
   },
   "outputs": [
    {
     "data": {
      "text/latex": [
       "$$k_b=(8.68882485849e-24\\pm 7.40896325808e-25) J/K$$"
      ],
      "text/plain": [
       "<IPython.core.display.Math object>"
      ]
     },
     "metadata": {},
     "output_type": "display_data"
    }
   ],
   "source": [
    "eta, deta = 9.35*10**(-4),.05*10**(-4)\n",
    "a, da = 378*10**-9, 15*10**-9\n",
    "T, dT = 273.3 + 23, 1\n",
    "t, ddt = np.mean(dt),stdmean(np.std(dt),dt.size)\n",
    "rmean,drmean = r_squared_mean*10**-12,r_squared_mean_std*10**-12\n",
    "\n",
    "k = 6 * np.pi * eta * a * rmean / ( 4 * T * t )\n",
    "dk = k * relerr((deta,da,dT,ddt,drmean),(eta,a,T,t,rmean))\n",
    "printResult(\"k_b\",k,dk,\"J/K\")"
   ]
  },
  {
   "cell_type": "code",
   "execution_count": 9,
   "metadata": {
    "collapsed": false
   },
   "outputs": [
    {
     "name": "stdout",
     "output_type": "stream",
     "text": [
      "n/sig = 6.89863745232\n"
     ]
    }
   ],
   "source": [
    "k_lit = 1.38*10**-23\n",
    "print(\"n/sig =\",abs(k-k_lit)/dk)"
   ]
  },
  {
   "cell_type": "code",
   "execution_count": 10,
   "metadata": {
    "collapsed": false
   },
   "outputs": [
    {
     "data": {
      "text/latex": [
       "$$D=(3.86445416717e-13\\pm 2.90638976312e-14) m^2/s$$"
      ],
      "text/plain": [
       "<IPython.core.display.Math object>"
      ]
     },
     "metadata": {},
     "output_type": "display_data"
    }
   ],
   "source": [
    "D = rmean / 4 / t\n",
    "dD = relerr((drmean,ddt),(rmean,t))*D\n",
    "\n",
    "printResult(\"D\",D,dD,\"m^2/s\")"
   ]
  },
  {
   "cell_type": "markdown",
   "metadata": {},
   "source": [
    "## Teil4: Histogramm"
   ]
  },
  {
   "cell_type": "code",
   "execution_count": 11,
   "metadata": {
    "collapsed": false
   },
   "outputs": [
    {
     "data": {
      "image/png": "[encoded data removed]",
      "text/plain": [
       "<matplotlib.figure.Figure at 0x7fbc415145f8>"
      ]
     },
     "metadata": {},
     "output_type": "display_data"
    }
   ],
   "source": [
    "n, bins, patches=plt.hist(np.append(dx,dy), 20, normed=1, facecolor='red', alpha=0.8) \n",
    "\n",
    "mu = round(np.mean(np.append(dx,dy)),2)\n",
    "sig = round(np.std(np.append(dx,dy)),2)\n",
    "\n",
    "plt.text(-2.6, .53, '$\\mu=$'+str(mu)\n",
    "         +'$\\mu$m'+'  $\\sigma=$'+str(sig)+'$\\mu$m')\n",
    "plt.xlabel('Verschiebung [$\\mu$m]')\n",
    "plt.ylabel('rel. Haeufigkeit')\n",
    "plt.title('Histogram der Verschiebungen')\n",
    "plt.grid(True)\n",
    "plt.axis([-3, 3, 0, 0.6])\n",
    "\n",
    "gauss = mlab.normpdf( bins, np.mean(np.append(dx,dy)), np.std(np.append(dx,dy)))\n",
    "plt.plot(bins, gauss, 'b-', linewidth=1,)\n",
    "plt.show()"
   ]
  },
  {
   "cell_type": "markdown",
   "metadata": {},
   "source": [
    "## Teil5: k und D aus StdAbw"
   ]
  },
  {
   "cell_type": "code",
   "execution_count": 17,
   "metadata": {
    "collapsed": false
   },
   "outputs": [
    {
     "data": {
      "text/latex": [
       "$$D_2=(3.85961813779e-13\\pm 5.08296600112e-16) m^2/s$$"
      ],
      "text/plain": [
       "<IPython.core.display.Math object>"
      ]
     },
     "metadata": {},
     "output_type": "display_data"
    }
   ],
   "source": [
    "D = sig**2/2/t/10**12\n",
    "dsig = .2*10**-6 / np.sqrt(2*299)\n",
    "\n",
    "dD = relerr((ddt,2*dsig),(t,sig))*D\n",
    "printResult(\"D_2\",D,dD,r\"m^2/s\")"
   ]
  },
  {
   "cell_type": "code",
   "execution_count": 13,
   "metadata": {
    "collapsed": false
   },
   "outputs": [
    {
     "data": {
      "text/latex": [
       "$$k=(8.67795154741e-24\\pm 3.48895251967e-25) J/K$$"
      ],
      "text/plain": [
       "<IPython.core.display.Math object>"
      ]
     },
     "metadata": {},
     "output_type": "display_data"
    }
   ],
   "source": [
    "k = 3*np.pi*eta*a*sig**2/10**12/T/t\n",
    "dk = k*relerr((deta,da,2*dsig,dT,ddt),(eta,a,sig,T,t))\n",
    "printResult(\"k\",k,dk,\"J/K\")"
   ]
  },
  {
   "cell_type": "markdown",
   "metadata": {
    "collapsed": false
   },
   "source": [
    "## Teil6: D über kummulative Verteilung von $<r^2>$"
   ]
  },
  {
   "cell_type": "code",
   "execution_count": 14,
   "metadata": {
    "collapsed": false
   },
   "outputs": [
    {
     "data": {
      "image/png": "[encoded data removed]",
      "text/plain": [
       "<matplotlib.figure.Figure at 0x7fbc60122940>"
      ]
     },
     "metadata": {},
     "output_type": "display_data"
    }
   ],
   "source": [
    "r_kumm=np.cumsum(r_squared)\n",
    "\n",
    "curve,popt,pcov = fit_lin(tlist[:-1],r_kumm,sigma=np.sqrt(2)*.3*10**-6)\n",
    "\n",
    "plt.plot(tlist[:-1], r_kumm, 'r-', marker='.', linewidth=0)\n",
    "plt.plot(tlist[:-1],curve)\n",
    "plt.xlabel('Zeit [s]')\n",
    "plt.ylabel('Summe der $r_i^2$ [$\\mu m^2$]')\n",
    "plt.title('Kummulative Verschiebung')\n",
    "plt.show()"
   ]
  },
  {
   "cell_type": "code",
   "execution_count": 15,
   "metadata": {
    "collapsed": false
   },
   "outputs": [
    {
     "data": {
      "text/latex": [
       "$$m=(1.54982540092\\pm 0.00645838245806) \\mu m^2/s$$"
      ],
      "text/plain": [
       "<IPython.core.display.Math object>"
      ]
     },
     "metadata": {},
     "output_type": "display_data"
    }
   ],
   "source": [
    "printResult(\"m\",popt[0],np.sqrt(pcov[0,0]),\"\\mu m^2/s\")"
   ]
  },
  {
   "cell_type": "code",
   "execution_count": 16,
   "metadata": {
    "collapsed": false
   },
   "outputs": [
    {
     "data": {
      "text/latex": [
       "$$c=(6.08167995789\\pm 0.559643985632) \\mu m^2$$"
      ],
      "text/plain": [
       "<IPython.core.display.Math object>"
      ]
     },
     "metadata": {},
     "output_type": "display_data"
    }
   ],
   "source": [
    "printResult(\"c\",popt[1],np.sqrt(pcov[1,1]),\"\\mu m^2\")"
   ]
  }
 ],
 "metadata": {
  "kernelspec": {
   "display_name": "Python 3",
   "language": "python",
   "name": "python3"
  },
  "language_info": {
   "codemirror_mode": {
    "name": "ipython",
    "version": 3
   },
   "file_extension": ".py",
   "mimetype": "text/x-python",
   "name": "python",
   "nbconvert_exporter": "python",
   "pygments_lexer": "ipython3",
   "version": "3.5.1"
  }
 },
 "nbformat": 4,
 "nbformat_minor": 0
}
