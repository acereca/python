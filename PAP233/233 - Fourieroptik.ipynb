{
 "cells": [
  {
   "cell_type": "markdown",
   "metadata": {},
   "source": [
    "# Versuch 233: Fourieroptik"
   ]
  },
  {
   "cell_type": "code",
   "execution_count": 3,
   "metadata": {
    "collapsed": true
   },
   "outputs": [],
   "source": [
    "import matplotlib\n",
    "import numpy as np\n",
    "import pandas as pd \n",
    "from pandas import DataFrame as df\n",
    "import matplotlib.pyplot as plt\n",
    "\n",
    "from helper import *\n",
    "\n",
    "%matplotlib inline"
   ]
  },
  {
   "cell_type": "markdown",
   "metadata": {},
   "source": [
    "## Teil 0: Eichung der Abszisse"
   ]
  },
  {
   "cell_type": "code",
   "execution_count": 39,
   "metadata": {
    "collapsed": false
   },
   "outputs": [
    {
     "data": {
      "text/latex": [
       "$$m_{eich}=(2.74478147259\\pm 0.238815676272)\\mu m/px$$"
      ],
      "text/plain": [
       "<IPython.core.display.Math object>"
      ]
     },
     "metadata": {},
     "output_type": "display_data"
    }
   ],
   "source": [
    "eichdata = np.genfromtxt(\"data/eichung.dat\",skip_header=1)\n",
    "deichung = eichdata[:-1]-eichdata[1:]\n",
    "eichwerte = deichung.T[2]/deichung.T[1]\n",
    "eichwert = np.mean(eichwerte)\n",
    "deichwert = np.sqrt(np.sum((eichwert-eichwerte)**2)/6)\n",
    "printResult(\"m_{eich}\",abs(eichwert),error=deichwert,unit='\\mu m/px')"
   ]
  },
  {
   "cell_type": "markdown",
   "metadata": {},
   "source": [
    "## Teil 1: Einzelspalt "
   ]
  },
  {
   "cell_type": "code",
   "execution_count": 91,
   "metadata": {
    "collapsed": false
   },
   "outputs": [
    {
     "data": {
      "image/png": "[encoded data removed]",
      "text/plain": [
       "<matplotlib.figure.Figure at 0x7f29b61f3c88>"
      ]
     },
     "metadata": {},
     "output_type": "display_data"
    }
   ],
   "source": [
    "data = np.genfromtxt('data/einzelspaltminmax.dat',skip_header=1)\n",
    "maxdata = data[:11]\n",
    "mindata = data[11:]\n",
    "\n",
    "ddist = np.sqrt(2)*data[0,5]\n",
    "plt.plot(data[:,2], data[:,3], marker='.',linestyle='none')\n",
    "plt.show()"
   ]
  },
  {
   "cell_type": "code",
   "execution_count": 122,
   "metadata": {
    "collapsed": false
   },
   "outputs": [
    {
     "data": {
      "image/png": "[encoded data removed]",
      "text/plain": [
       "<matplotlib.figure.Figure at 0x7f29b01df630>"
      ]
     },
     "metadata": {},
     "output_type": "display_data"
    }
   ],
   "source": [
    "distmin = mindata[:5]-mindata[5:]\n",
    "distmax = maxdata[1:6]-maxdata[6:]\n",
    "\n",
    "curve, popt, pcov = fit_lin(distmin[:,1]/2,distmin[:,2])\n",
    "\n",
    "#plt.errorbar(distmax[:,1]/2,distmax[:,2],yerr=ddist,marker='.',linestyle='none')\n",
    "x = np.linspace(0,6,7)\n",
    "plt.plot(x, popt[0]*x+popt[1])\n",
    "plt.show()"
   ]
  },
  {
   "cell_type": "code",
   "execution_count": 123,
   "metadata": {
    "collapsed": false
   },
   "outputs": [
    {
     "data": {
      "text/latex": [
       "$$c=(4.57500027453\\pm 4.14033196392)px$$"
      ],
      "text/plain": [
       "<IPython.core.display.Math object>"
      ]
     },
     "metadata": {},
     "output_type": "display_data"
    },
    {
     "data": {
      "text/latex": [
       "$$m=(158.052999924\\pm 1.24835727193)px$$"
      ],
      "text/plain": [
       "<IPython.core.display.Math object>"
      ]
     },
     "metadata": {},
     "output_type": "display_data"
    }
   ],
   "source": [
    "m, c = popt\n",
    "\n",
    "printResult('c',c,error=np.sqrt(pcov[1,1]),unit='px')\n",
    "printResult('m',m,error=np.sqrt(pcov[0,0]),unit='px')"
   ]
  },
  {
   "cell_type": "code",
   "execution_count": 135,
   "metadata": {
    "collapsed": false
   },
   "outputs": [
    {
     "data": {
      "image/png": "[encoded data removed]",
      "text/plain": [
       "<matplotlib.figure.Figure at 0x7f29b623cfd0>"
      ]
     },
     "metadata": {},
     "output_type": "display_data"
    }
   ],
   "source": [
    "n = (distmax[:,2]-c)/m\n",
    "plt.errorbar(n,distmax[:,2],linestyle='none',marker='s', label='Maxima')\n",
    "plt.errorbar(distmin[:,1]/2, distmin[:,2], yerr=ddist, marker=\".\", linestyle='none',label='Minima')\n",
    "plt.plot(x, popt[0]*x+popt[1])\n",
    "plt.xlim([.5,6])\n",
    "plt.ylim([0,1200])\n",
    "plt.grid()\n",
    "plt.legend()\n",
    "plt.show()"
   ]
  },
  {
   "cell_type": "code",
   "execution_count": null,
   "metadata": {
    "collapsed": true
   },
   "outputs": [],
   "source": []
  }
 ],
 "metadata": {
  "kernelspec": {
   "display_name": "Python 3",
   "language": "python",
   "name": "python3"
  },
  "language_info": {
   "codemirror_mode": {
    "name": "ipython",
    "version": 3
   },
   "file_extension": ".py",
   "mimetype": "text/x-python",
   "name": "python",
   "nbconvert_exporter": "python",
   "pygments_lexer": "ipython3",
   "version": "3.5.1"
  }
 },
 "nbformat": 4,
 "nbformat_minor": 0
}
