{
 "cells": [
  {
   "cell_type": "markdown",
   "metadata": {},
   "source": [
    "# Versuch 233: Fourieroptik"
   ]
  },
  {
   "cell_type": "code",
   "execution_count": 2,
   "metadata": {
    "collapsed": true
   },
   "outputs": [],
   "source": [
    "import matplotlib\n",
    "import numpy as np\n",
    "import pandas as pd \n",
    "from pandas import DataFrame as df\n",
    "import matplotlib.pyplot as plt\n",
    "\n",
    "from helper import *\n",
    "\n",
    "%matplotlib inline"
   ]
  },
  {
   "cell_type": "markdown",
   "metadata": {},
   "source": [
    "## Teil 0: Eichung der Abszisse"
   ]
  },
  {
   "cell_type": "code",
   "execution_count": 3,
   "metadata": {
    "collapsed": false
   },
   "outputs": [
    {
     "data": {
      "text/latex": [
       "$$m_{eich}=(2.74478147259\\pm 0.238815676272)\\mu m/px$$"
      ],
      "text/plain": [
       "<IPython.core.display.Math object>"
      ]
     },
     "metadata": {},
     "output_type": "display_data"
    }
   ],
   "source": [
    "eichdata = np.genfromtxt(\"data/eichung.dat\",skip_header=1)\n",
    "deichung = eichdata[:-1]-eichdata[1:]\n",
    "eichwerte = deichung.T[2]/deichung.T[1]\n",
    "eichwert = np.mean(eichwerte)\n",
    "deichwert = np.sqrt(np.sum((eichwert-eichwerte)**2)/6)\n",
    "eichwert = abs(eichwert)\n",
    "printResult(\"m_{eich}\",eichwert,error=deichwert,unit='\\mu m/px')"
   ]
  },
  {
   "cell_type": "markdown",
   "metadata": {},
   "source": [
    "## Teil 1: Einzelspalt "
   ]
  },
  {
   "cell_type": "code",
   "execution_count": 4,
   "metadata": {
    "collapsed": false
   },
   "outputs": [],
   "source": [
    "data = np.genfromtxt('data/einzelspaltminmax.dat',skip_header=1)\n",
    "maxdata = data[:11]\n",
    "mindata = data[11:]\n",
    "\n",
    "ddist = np.sqrt(2)*data[0,5]\n",
    "#plt.plot(data[:,2], data[:,3], marker='.',linestyle='none')\n",
    "#plt.show()"
   ]
  },
  {
   "cell_type": "code",
   "execution_count": 5,
   "metadata": {
    "collapsed": false
   },
   "outputs": [],
   "source": [
    "distmin = mindata[:5]-mindata[5:]\n",
    "distmax = maxdata[1:6]-maxdata[6:]\n",
    "\n",
    "curve, popt, pcov = fit_lin(distmin[:,1]/2,distmin[:,2])\n",
    "\n",
    "#plt.errorbar(distmax[:,1]/2,distmax[:,2],yerr=ddist,marker='.',linestyle='none')\n",
    "x = np.linspace(0,6,7)\n",
    "#plt.plot(x, popt[0]*x+popt[1])\n",
    "#plt.show()"
   ]
  },
  {
   "cell_type": "code",
   "execution_count": 6,
   "metadata": {
    "collapsed": false
   },
   "outputs": [
    {
     "data": {
      "text/latex": [
       "$$c=(4.57500027453\\pm 4.14033196392)px$$"
      ],
      "text/plain": [
       "<IPython.core.display.Math object>"
      ]
     },
     "metadata": {},
     "output_type": "display_data"
    },
    {
     "data": {
      "text/latex": [
       "$$m=(158.052999924\\pm 1.24835727193)px$$"
      ],
      "text/plain": [
       "<IPython.core.display.Math object>"
      ]
     },
     "metadata": {},
     "output_type": "display_data"
    }
   ],
   "source": [
    "m, c = popt\n",
    "dm,dc = np.sqrt((pcov[0,0],pcov[1,1]))\n",
    "\n",
    "printResult('c',c,error=dc,unit='px')\n",
    "printResult('m',m,error=dm,unit='px')"
   ]
  },
  {
   "cell_type": "code",
   "execution_count": 7,
   "metadata": {
    "collapsed": false
   },
   "outputs": [
    {
     "ename": "NameError",
     "evalue": "name 'pls' is not defined",
     "output_type": "error",
     "traceback": [
      "\u001b[1;31m---------------------------------------------------------------------------\u001b[0m",
      "\u001b[1;31mNameError\u001b[0m                                 Traceback (most recent call last)",
      "\u001b[1;32m<ipython-input-7-6ae9f438efa3>\u001b[0m in \u001b[0;36m<module>\u001b[1;34m()\u001b[0m\n\u001b[0;32m     11\u001b[0m \u001b[0mplt\u001b[0m\u001b[1;33m.\u001b[0m\u001b[0mxlabel\u001b[0m\u001b[1;33m(\u001b[0m\u001b[1;34m'Ordnung'\u001b[0m\u001b[1;33m)\u001b[0m\u001b[1;33m\u001b[0m\u001b[0m\n\u001b[0;32m     12\u001b[0m \u001b[0mplt\u001b[0m\u001b[1;33m.\u001b[0m\u001b[0mylabel\u001b[0m\u001b[1;33m(\u001b[0m\u001b[1;34m'Abstand [$\\mu m$]'\u001b[0m\u001b[1;33m)\u001b[0m\u001b[1;33m\u001b[0m\u001b[0m\n\u001b[1;32m---> 13\u001b[1;33m \u001b[0mpls\u001b[0m\u001b[1;33m.\u001b[0m\u001b[0msavefig\u001b[0m\u001b[1;33m(\u001b[0m\u001b[1;34m\"abst.pdf\"\u001b[0m\u001b[1;33m,\u001b[0m \u001b[0mformat\u001b[0m\u001b[1;33m=\u001b[0m\u001b[1;34m\"PDF\"\u001b[0m\u001b[1;33m)\u001b[0m\u001b[1;33m\u001b[0m\u001b[0m\n\u001b[0m\u001b[0;32m     14\u001b[0m \u001b[0mplt\u001b[0m\u001b[1;33m.\u001b[0m\u001b[0mshow\u001b[0m\u001b[1;33m(\u001b[0m\u001b[1;33m)\u001b[0m\u001b[1;33m\u001b[0m\u001b[0m\n",
      "\u001b[1;31mNameError\u001b[0m: name 'pls' is not defined"
     ]
    },
    {
     "data": {
      "image/png": "[encoded data removed]",
      "text/plain": [
       "<matplotlib.figure.Figure at 0x7fb220c5d908>"
      ]
     },
     "metadata": {},
     "output_type": "display_data"
    }
   ],
   "source": [
    "n = (distmax[:,2]-c)/m \n",
    "dn = [relErr([ddist,dc,dm*(distmax[i,2]-c)],[m,m,m**2]) for i in range(5)]\n",
    "plt.errorbar(n,distmax[:,2],linestyle='none',marker='s', label='Maxima')\n",
    "plt.errorbar(distmin[:,1]/2, distmin[:,2], yerr=ddist, marker=\".\", linestyle='none',label='Minima')\n",
    "plt.plot(x, popt[0]*x+popt[1])\n",
    "plt.xlim([.5,6])\n",
    "plt.ylim([0,1200])\n",
    "plt.grid()\n",
    "plt.legend()\n",
    "plt.title('Abstände der Minima/Maxima n-ter Ordnung')\n",
    "plt.xlabel('Ordnung')\n",
    "plt.ylabel('Abstand [$\\mu m$]')\n",
    "pls.savefig(\"abst.pdf\", format=\"PDF\")\n",
    "plt.show()"
   ]
  },
  {
   "cell_type": "markdown",
   "metadata": {
    "collapsed": true
   },
   "source": [
    "### Spaltbreite"
   ]
  },
  {
   "cell_type": "code",
   "execution_count": 7,
   "metadata": {
    "collapsed": false
   },
   "outputs": [
    {
     "data": {
      "text/latex": [
       "$$b_{\\mu m}=(433.820945879\\pm 37.900739097)\\mu m$$"
      ],
      "text/plain": [
       "<IPython.core.display.Math object>"
      ]
     },
     "metadata": {},
     "output_type": "display_data"
    }
   ],
   "source": [
    "b, db = eichwert*m, np.sqrt((dm*eichwert)**2+(deichwert*m)**2)\n",
    "printResult(\"b_{\\mu m}\",b,error=db,unit=\"\\mu m\")"
   ]
  },
  {
   "cell_type": "code",
   "execution_count": 8,
   "metadata": {
    "collapsed": false
   },
   "outputs": [
    {
     "data": {
      "text/latex": [
       "$$d=(234.19800488\\pm 20.4606936671)\\mu m$$"
      ],
      "text/plain": [
       "<IPython.core.display.Math object>"
      ]
     },
     "metadata": {},
     "output_type": "display_data"
    }
   ],
   "source": [
    "lamb = 0.635 #mum\n",
    "f = 80000 # mum\n",
    "\n",
    "d, dd = 2 * f * lamb / b, db*2*f*lamb/(b**2)\n",
    "printResult(\"d\",d,error=dd,unit=\"\\mu m\")"
   ]
  },
  {
   "cell_type": "code",
   "execution_count": 9,
   "metadata": {
    "collapsed": false
   },
   "outputs": [
    {
     "data": {
      "text/html": [
       "<div>\n",
       "<table border=\"1\" class=\"dataframe\">\n",
       "  <thead>\n",
       "    <tr style=\"text-align: right;\">\n",
       "      <th></th>\n",
       "      <th>0</th>\n",
       "      <th>1</th>\n",
       "      <th>2</th>\n",
       "      <th>3</th>\n",
       "      <th>4</th>\n",
       "    </tr>\n",
       "  </thead>\n",
       "  <tbody>\n",
       "    <tr>\n",
       "      <th>0</th>\n",
       "      <td>1.0</td>\n",
       "      <td>1.432453</td>\n",
       "      <td>1.414937</td>\n",
       "      <td>0.039137</td>\n",
       "      <td>0.447555</td>\n",
       "    </tr>\n",
       "    <tr>\n",
       "      <th>1</th>\n",
       "      <td>2.0</td>\n",
       "      <td>2.459472</td>\n",
       "      <td>2.472367</td>\n",
       "      <td>0.042286</td>\n",
       "      <td>-0.304955</td>\n",
       "    </tr>\n",
       "    <tr>\n",
       "      <th>2</th>\n",
       "      <td>3.0</td>\n",
       "      <td>3.471051</td>\n",
       "      <td>3.472221</td>\n",
       "      <td>0.046464</td>\n",
       "      <td>-0.025186</td>\n",
       "    </tr>\n",
       "    <tr>\n",
       "      <th>3</th>\n",
       "      <td>4.0</td>\n",
       "      <td>4.477484</td>\n",
       "      <td>4.492575</td>\n",
       "      <td>0.051632</td>\n",
       "      <td>-0.292281</td>\n",
       "    </tr>\n",
       "    <tr>\n",
       "      <th>4</th>\n",
       "      <td>5.0</td>\n",
       "      <td>5.481578</td>\n",
       "      <td>5.502110</td>\n",
       "      <td>0.057405</td>\n",
       "      <td>-0.357671</td>\n",
       "    </tr>\n",
       "  </tbody>\n",
       "</table>\n",
       "</div>"
      ],
      "text/plain": [
       "     0         1         2         3         4\n",
       "0  1.0  1.432453  1.414937  0.039137  0.447555\n",
       "1  2.0  2.459472  2.472367  0.042286 -0.304955\n",
       "2  3.0  3.471051  3.472221  0.046464 -0.025186\n",
       "3  4.0  4.477484  4.492575  0.051632 -0.292281\n",
       "4  5.0  5.481578  5.502110  0.057405 -0.357671"
      ]
     },
     "execution_count": 9,
     "metadata": {},
     "output_type": "execute_result"
    }
   ],
   "source": [
    "nn = np.linspace(1,5,5)\n",
    "nt = ((nn+.5)*np.pi - 1/((nn+.5)*np.pi))/np.pi\n",
    "df(np.array([nn,nt,n,dn,(nt-n)/dn]).T)"
   ]
  },
  {
   "cell_type": "markdown",
   "metadata": {
    "collapsed": true
   },
   "source": [
    "### Verhältnisse der Maxima"
   ]
  },
  {
   "cell_type": "code",
   "execution_count": 10,
   "metadata": {
    "collapsed": false
   },
   "outputs": [
    {
     "data": {
      "text/html": [
       "<div>\n",
       "<table border=\"1\" class=\"dataframe\">\n",
       "  <thead>\n",
       "    <tr style=\"text-align: right;\">\n",
       "      <th></th>\n",
       "      <th>0</th>\n",
       "      <th>1</th>\n",
       "    </tr>\n",
       "  </thead>\n",
       "  <tbody>\n",
       "    <tr>\n",
       "      <th>0</th>\n",
       "      <td>3825.00</td>\n",
       "      <td>1.0</td>\n",
       "    </tr>\n",
       "    <tr>\n",
       "      <th>1</th>\n",
       "      <td>251.25</td>\n",
       "      <td>1.0</td>\n",
       "    </tr>\n",
       "    <tr>\n",
       "      <th>2</th>\n",
       "      <td>89.95</td>\n",
       "      <td>1.0</td>\n",
       "    </tr>\n",
       "    <tr>\n",
       "      <th>3</th>\n",
       "      <td>37.20</td>\n",
       "      <td>1.0</td>\n",
       "    </tr>\n",
       "    <tr>\n",
       "      <th>4</th>\n",
       "      <td>26.85</td>\n",
       "      <td>1.0</td>\n",
       "    </tr>\n",
       "    <tr>\n",
       "      <th>5</th>\n",
       "      <td>17.50</td>\n",
       "      <td>1.0</td>\n",
       "    </tr>\n",
       "  </tbody>\n",
       "</table>\n",
       "</div>"
      ],
      "text/plain": [
       "         0    1\n",
       "0  3825.00  1.0\n",
       "1   251.25  1.0\n",
       "2    89.95  1.0\n",
       "3    37.20  1.0\n",
       "4    26.85  1.0\n",
       "5    17.50  1.0"
      ]
     },
     "execution_count": 10,
     "metadata": {},
     "output_type": "execute_result"
    }
   ],
   "source": [
    "iu = (86.5+83.5)/2\n",
    "\n",
    "iq = [((maxdata[i+1,3]+maxdata[i+6,3])/2)-iu for i in range(5)]\n",
    "diq = np.sqrt(2*(0.5*np.sqrt(2))**2)\n",
    "iq0 = maxdata[0,3]-iu\n",
    "iq.insert(0,iq0)\n",
    "diq = np.linspace(diq,diq,6)\n",
    "df(np.array([iq,diq]).T)"
   ]
  },
  {
   "cell_type": "code",
   "execution_count": 11,
   "metadata": {
    "collapsed": false
   },
   "outputs": [
    {
     "data": {
      "text/html": [
       "<div>\n",
       "<table border=\"1\" class=\"dataframe\">\n",
       "  <thead>\n",
       "    <tr style=\"text-align: right;\">\n",
       "      <th></th>\n",
       "      <th>$(I_n/I_0)_{exp}$</th>\n",
       "      <th>$\\Delta (I_n/I_0)_{exp}$</th>\n",
       "      <th>$(I_n/I_0)_{theo}$</th>\n",
       "    </tr>\n",
       "  </thead>\n",
       "  <tbody>\n",
       "    <tr>\n",
       "      <th>1</th>\n",
       "      <td>0.065686</td>\n",
       "      <td>0.004878</td>\n",
       "      <td>0.047188</td>\n",
       "    </tr>\n",
       "    <tr>\n",
       "      <th>2</th>\n",
       "      <td>0.023516</td>\n",
       "      <td>0.001746</td>\n",
       "      <td>0.016480</td>\n",
       "    </tr>\n",
       "    <tr>\n",
       "      <th>3</th>\n",
       "      <td>0.009725</td>\n",
       "      <td>0.000722</td>\n",
       "      <td>0.008340</td>\n",
       "    </tr>\n",
       "    <tr>\n",
       "      <th>4</th>\n",
       "      <td>0.007020</td>\n",
       "      <td>0.000521</td>\n",
       "      <td>0.005029</td>\n",
       "    </tr>\n",
       "    <tr>\n",
       "      <th>5</th>\n",
       "      <td>0.004575</td>\n",
       "      <td>0.000340</td>\n",
       "      <td>0.003361</td>\n",
       "    </tr>\n",
       "  </tbody>\n",
       "</table>\n",
       "</div>"
      ],
      "text/plain": [
       "   $(I_n/I_0)_{exp}$  $\\Delta (I_n/I_0)_{exp}$  $(I_n/I_0)_{theo}$\n",
       "1           0.065686                  0.004878            0.047188\n",
       "2           0.023516                  0.001746            0.016480\n",
       "3           0.009725                  0.000722            0.008340\n",
       "4           0.007020                  0.000521            0.005029\n",
       "5           0.004575                  0.000340            0.003361"
      ]
     },
     "execution_count": 11,
     "metadata": {},
     "output_type": "execute_result"
    }
   ],
   "source": [
    "vexp = iq[1:]/iq[0]\n",
    "dvexp = vexp*relErr([1,1,1,1,1,1],iq)\n",
    "vtheo = (np.sin(nt*np.pi)/(nt*np.pi))**2\n",
    "df(np.array([vexp,dvexp,vtheo]).T, \n",
    "   columns=(\"$(I_n/I_0)_{exp}$\",\n",
    "            \"$\\Delta (I_n/I_0)_{exp}$\",\n",
    "            \"$(I_n/I_0)_{theo}$\"),\n",
    "   index=(1,2,3,4,5))"
   ]
  },
  {
   "cell_type": "markdown",
   "metadata": {
    "collapsed": true
   },
   "source": [
    "## Teil 2: Doppelspalt"
   ]
  },
  {
   "cell_type": "markdown",
   "metadata": {},
   "source": [
    "### Eichung 2"
   ]
  },
  {
   "cell_type": "code",
   "execution_count": 12,
   "metadata": {
    "collapsed": false
   },
   "outputs": [
    {
     "data": {
      "text/latex": [
       "$$m_{eich}=(2.9049604816\\pm 0.177598655277)\\mu m/px$$"
      ],
      "text/plain": [
       "<IPython.core.display.Math object>"
      ]
     },
     "metadata": {},
     "output_type": "display_data"
    }
   ],
   "source": [
    "eichdata = np.genfromtxt(\"data/eichung2.dat\",skip_header=1)\n",
    "deichung = eichdata[:-1]-eichdata[1:]\n",
    "eichwerte = deichung.T[2]/deichung.T[1]\n",
    "eichwert = np.mean(eichwerte)\n",
    "deichwert = np.sqrt(np.sum((eichwert-eichwerte)**2)/6)\n",
    "eichwert = abs(eichwert)\n",
    "printResult(\"m_{eich}\",eichwert,error=deichwert,unit='\\mu m/px')"
   ]
  },
  {
   "cell_type": "markdown",
   "metadata": {},
   "source": [
    "### Spaltabstand und -breite"
   ]
  },
  {
   "cell_type": "code",
   "execution_count": 13,
   "metadata": {
    "collapsed": false
   },
   "outputs": [
    {
     "data": {
      "text/latex": [
       "$$d_B=(129.95\\pm 2.96984848098)px$$"
      ],
      "text/plain": [
       "<IPython.core.display.Math object>"
      ]
     },
     "metadata": {},
     "output_type": "display_data"
    }
   ],
   "source": [
    "d1, d2 =126.8, 133.1\n",
    "d, dd = 0.5*(d1+d2), 0.5*np.sqrt(2*(4.2)**2)\n",
    "printResult(\"d_B\", d, error=dd, unit=\"px\")"
   ]
  },
  {
   "cell_type": "code",
   "execution_count": 14,
   "metadata": {
    "collapsed": false
   },
   "outputs": [
    {
     "data": {
      "text/latex": [
       "$$g_B=(308.45\\pm 5.14392845984)px$$"
      ],
      "text/plain": [
       "<IPython.core.display.Math object>"
      ]
     },
     "metadata": {},
     "output_type": "display_data"
    }
   ],
   "source": [
    "g, dg = d + 178.5, np.sqrt(4.2**2+dd**2)\n",
    "printResult(\"g_B\",g,error=dg,unit=\"px\")"
   ]
  },
  {
   "cell_type": "code",
   "execution_count": 15,
   "metadata": {
    "collapsed": false
   },
   "outputs": [
    {
     "data": {
      "text/latex": [
       "$$g/d=2.373605232781839\\pm 0.0671527923433$$"
      ],
      "text/plain": [
       "<IPython.core.display.Math object>"
      ]
     },
     "metadata": {},
     "output_type": "display_data"
    }
   ],
   "source": [
    "gd = g/d\n",
    "dgd = gd * relErr([dg,dd],[g,d])\n",
    "printResult(\"g/d\", gd, error=dgd)"
   ]
  },
  {
   "cell_type": "code",
   "execution_count": 16,
   "metadata": {
    "collapsed": false
   },
   "outputs": [
    {
     "data": {
      "text/latex": [
       "$$\beta=7.0\\pm 0.022222222222222223$$"
      ],
      "text/plain": [
       "<IPython.core.display.Math object>"
      ]
     },
     "metadata": {},
     "output_type": "display_data"
    }
   ],
   "source": [
    "beta, dbeta = (72/9)-1, 2/90\n",
    "printResult(\"\\beta\", beta, error=dbeta)"
   ]
  },
  {
   "cell_type": "code",
   "execution_count": 17,
   "metadata": {
    "collapsed": false
   },
   "outputs": [
    {
     "data": {
      "text/latex": [
       "$$g_B=(896.03506055\\pm 14.942908896)\\mu m$$"
      ],
      "text/plain": [
       "<IPython.core.display.Math object>"
      ]
     },
     "metadata": {},
     "output_type": "display_data"
    },
    {
     "data": {
      "text/latex": [
       "$$d_B=(377.499614584\\pm 8.6272924736)\\mu m$$"
      ],
      "text/plain": [
       "<IPython.core.display.Math object>"
      ]
     },
     "metadata": {},
     "output_type": "display_data"
    }
   ],
   "source": [
    "g, dg = g * eichwert, dg * eichwert\n",
    "d, dd = d * eichwert, dd * eichwert\n",
    "printResult(\"g_B\", g, error=dg, unit=\"\\mu m\")\n",
    "printResult(\"d_B\", d, error=dd, unit=\"\\mu m\")"
   ]
  },
  {
   "cell_type": "code",
   "execution_count": 18,
   "metadata": {
    "collapsed": false
   },
   "outputs": [
    {
     "data": {
      "text/latex": [
       "$$g=(128.00500865\\pm 2.17303523116)\\mu m$$"
      ],
      "text/plain": [
       "<IPython.core.display.Math object>"
      ]
     },
     "metadata": {},
     "output_type": "display_data"
    }
   ],
   "source": [
    "gg = g/beta\n",
    "dgg = gg* relErr([dg,dbeta],[g,beta])\n",
    "printResult(\"g\",gg,error=dgg,unit=\"\\mu m\")"
   ]
  },
  {
   "cell_type": "code",
   "execution_count": 19,
   "metadata": {
    "collapsed": false
   },
   "outputs": [
    {
     "data": {
      "text/latex": [
       "$$d=(53.9285163691\\pm 8.62899098541)\\mu m$$"
      ],
      "text/plain": [
       "<IPython.core.display.Math object>"
      ]
     },
     "metadata": {},
     "output_type": "display_data"
    }
   ],
   "source": [
    "d = d/beta\n",
    "dd = d* relErr([dd,dbeta],[d,beta])\n",
    "printResult(\"d\",d,error=dd,unit=\"\\mu m\")"
   ]
  },
  {
   "cell_type": "markdown",
   "metadata": {},
   "source": [
    "### Intensitätsverhältnisse"
   ]
  },
  {
   "cell_type": "code",
   "execution_count": 20,
   "metadata": {
    "collapsed": false
   },
   "outputs": [],
   "source": [
    "data = np.genfromtxt('data/doppelspaltminmax.dat',skip_header=1)\n",
    "maxdata = data[4:]\n",
    "mindata = data[:4]\n",
    "\n",
    "#plt.plot(data[:,2], data[:,4], marker='.', linestyle = 'none')\n",
    "#plt.show()"
   ]
  },
  {
   "cell_type": "code",
   "execution_count": 21,
   "metadata": {
    "collapsed": false
   },
   "outputs": [
    {
     "data": {
      "text/html": [
       "<div>\n",
       "<table border=\"1\" class=\"dataframe\">\n",
       "  <thead>\n",
       "    <tr style=\"text-align: right;\">\n",
       "      <th></th>\n",
       "      <th>0</th>\n",
       "      <th>1</th>\n",
       "    </tr>\n",
       "  </thead>\n",
       "  <tbody>\n",
       "    <tr>\n",
       "      <th>0</th>\n",
       "      <td>3426.9</td>\n",
       "      <td>1.0</td>\n",
       "    </tr>\n",
       "    <tr>\n",
       "      <th>1</th>\n",
       "      <td>2108.9</td>\n",
       "      <td>1.0</td>\n",
       "    </tr>\n",
       "  </tbody>\n",
       "</table>\n",
       "</div>"
      ],
      "text/plain": [
       "        0    1\n",
       "0  3426.9  1.0\n",
       "1  2108.9  1.0"
      ]
     },
     "execution_count": 21,
     "metadata": {},
     "output_type": "execute_result"
    }
   ],
   "source": [
    "iu = (95.2+97)/2\n",
    "\n",
    "iq = ((maxdata[0,4]+maxdata[2,4])/2)-iu\n",
    "diq = np.sqrt(2*(0.5*np.sqrt(2))**2)\n",
    "iq0 = maxdata[1,4]-iu\n",
    "df(np.array([[iq0,iq],[diq,diq]]).T)"
   ]
  },
  {
   "cell_type": "code",
   "execution_count": 22,
   "metadata": {
    "collapsed": false,
    "scrolled": true
   },
   "outputs": [
    {
     "data": {
      "text/html": [
       "<div>\n",
       "<table border=\"1\" class=\"dataframe\">\n",
       "  <thead>\n",
       "    <tr style=\"text-align: right;\">\n",
       "      <th></th>\n",
       "      <th>0</th>\n",
       "    </tr>\n",
       "  </thead>\n",
       "  <tbody>\n",
       "    <tr>\n",
       "      <th>$(I_n/I_0)_{exp}$</th>\n",
       "      <td>0.615396</td>\n",
       "    </tr>\n",
       "    <tr>\n",
       "      <th>$\\Delta (I_n/I_0)_{exp}$</th>\n",
       "      <td>0.000292</td>\n",
       "    </tr>\n",
       "    <tr>\n",
       "      <th>$(I_n/I_0)_{theo}$</th>\n",
       "      <td>0.047188</td>\n",
       "    </tr>\n",
       "  </tbody>\n",
       "</table>\n",
       "</div>"
      ],
      "text/plain": [
       "                                 0\n",
       "$(I_n/I_0)_{exp}$         0.615396\n",
       "$\\Delta (I_n/I_0)_{exp}$  0.000292\n",
       "$(I_n/I_0)_{theo}$        0.047188"
      ]
     },
     "execution_count": 22,
     "metadata": {},
     "output_type": "execute_result"
    }
   ],
   "source": [
    "vexp = iq/iq0\n",
    "dvexp = vexp*relErr(1,iq)\n",
    "vtheo = (np.sin(nt[0]*np.pi)/(nt[0]*np.pi))**2\n",
    "df(np.array([vexp,dvexp,vtheo]).T, \n",
    "   index=(\"$(I_n/I_0)_{exp}$\",\n",
    "          \"$\\Delta (I_n/I_0)_{exp}$\",\n",
    "          \"$(I_n/I_0)_{theo}$\"))"
   ]
  },
  {
   "cell_type": "markdown",
   "metadata": {},
   "source": [
    "## Teil3: Objektbild als Fouriersynthese (Einzelspalt)"
   ]
  },
  {
   "cell_type": "code",
   "execution_count": 23,
   "metadata": {
    "collapsed": false
   },
   "outputs": [
    {
     "data": {
      "text/latex": [
       "$$d_B=(52.7042830233\\pm 4.61499435451)\\mu m$$"
      ],
      "text/plain": [
       "<IPython.core.display.Math object>"
      ]
     },
     "metadata": {},
     "output_type": "display_data"
    }
   ],
   "source": [
    "d, dd = 127.0 * eichwert / beta, 4.2 + eichwert / beta\n",
    "printResult(\"d_B\",d,error=dd,unit=\"\\mu m\")"
   ]
  },
  {
   "cell_type": "markdown",
   "metadata": {},
   "source": [
    "### experimentelle Werte"
   ]
  },
  {
   "cell_type": "code",
   "execution_count": 24,
   "metadata": {
    "collapsed": false
   },
   "outputs": [],
   "source": [
    "data0 = np.genfromtxt('data/eswiggles0.dat',skip_header=1)\n",
    "data1 = np.genfromtxt('data/eswiggles1.dat',skip_header=1)\n",
    "data2 = np.genfromtxt('data/eswiggles2.dat',skip_header=1)\n",
    "\n",
    "iu = (data0[-1] +data0[-2] +data1[-1] +data1[-2] +data2[-1] +data2[-2])/6\n",
    "data0 = data0 - iu\n",
    "a = data1[:3,3]/data0[0,3]\n",
    "b = data2[:5,3]/data0[0,3]\n",
    "vexp = np.concatenate((a,b))\n",
    "dvexp = np.sqrt((10/data0[0,3])**2\n",
    "                +((np.sqrt(200))/np.concatenate((data1[:3,3],data2[:5,3])))**2)"
   ]
  },
  {
   "cell_type": "markdown",
   "metadata": {},
   "source": [
    "### theoretische Werte"
   ]
  },
  {
   "cell_type": "code",
   "execution_count": 25,
   "metadata": {
    "collapsed": false
   },
   "outputs": [],
   "source": [
    "a = np.array([1,1,.65])*1.26/1.39\n",
    "b = np.array([1,.93,1,.7,.7])*1.23/1.39\n",
    "vtheo = np.concatenate((a,b))"
   ]
  },
  {
   "cell_type": "code",
   "execution_count": 26,
   "metadata": {
    "collapsed": false
   },
   "outputs": [
    {
     "data": {
      "text/html": [
       "<div>\n",
       "<table border=\"1\" class=\"dataframe\">\n",
       "  <thead>\n",
       "    <tr style=\"text-align: right;\">\n",
       "      <th></th>\n",
       "      <th>($I_n/I_0)_{exp}$</th>\n",
       "      <th>$\\Delta (I_n/I_0)_{exp}$</th>\n",
       "      <th>$(I_n/I_0)_{theo}$</th>\n",
       "      <th>$\\Delta (I_n/I_0)_{theo}$</th>\n",
       "    </tr>\n",
       "  </thead>\n",
       "  <tbody>\n",
       "    <tr>\n",
       "      <th>1,1</th>\n",
       "      <td>1.126563</td>\n",
       "      <td>0.005281</td>\n",
       "      <td>0.906475</td>\n",
       "      <td>2.083930</td>\n",
       "    </tr>\n",
       "    <tr>\n",
       "      <th>1,2</th>\n",
       "      <td>1.075894</td>\n",
       "      <td>0.005434</td>\n",
       "      <td>0.906475</td>\n",
       "      <td>1.558852</td>\n",
       "    </tr>\n",
       "    <tr>\n",
       "      <th>1,1</th>\n",
       "      <td>0.954157</td>\n",
       "      <td>0.005883</td>\n",
       "      <td>0.589209</td>\n",
       "      <td>3.101855</td>\n",
       "    </tr>\n",
       "    <tr>\n",
       "      <th>2,1</th>\n",
       "      <td>1.131169</td>\n",
       "      <td>0.005267</td>\n",
       "      <td>0.884892</td>\n",
       "      <td>2.337723</td>\n",
       "    </tr>\n",
       "    <tr>\n",
       "      <th>2,2</th>\n",
       "      <td>1.043979</td>\n",
       "      <td>0.005540</td>\n",
       "      <td>0.822950</td>\n",
       "      <td>1.994887</td>\n",
       "    </tr>\n",
       "    <tr>\n",
       "      <th>2,3</th>\n",
       "      <td>1.083461</td>\n",
       "      <td>0.005410</td>\n",
       "      <td>0.884892</td>\n",
       "      <td>1.835176</td>\n",
       "    </tr>\n",
       "    <tr>\n",
       "      <th>2,1</th>\n",
       "      <td>0.967975</td>\n",
       "      <td>0.005825</td>\n",
       "      <td>0.619424</td>\n",
       "      <td>2.991774</td>\n",
       "    </tr>\n",
       "    <tr>\n",
       "      <th>2,2</th>\n",
       "      <td>0.922900</td>\n",
       "      <td>0.006020</td>\n",
       "      <td>0.619424</td>\n",
       "      <td>2.520409</td>\n",
       "    </tr>\n",
       "  </tbody>\n",
       "</table>\n",
       "</div>"
      ],
      "text/plain": [
       "     ($I_n/I_0)_{exp}$  $\\Delta (I_n/I_0)_{exp}$  $(I_n/I_0)_{theo}$  \\\n",
       "1,1           1.126563                  0.005281            0.906475   \n",
       "1,2           1.075894                  0.005434            0.906475   \n",
       "1,1           0.954157                  0.005883            0.589209   \n",
       "2,1           1.131169                  0.005267            0.884892   \n",
       "2,2           1.043979                  0.005540            0.822950   \n",
       "2,3           1.083461                  0.005410            0.884892   \n",
       "2,1           0.967975                  0.005825            0.619424   \n",
       "2,2           0.922900                  0.006020            0.619424   \n",
       "\n",
       "     $\\Delta (I_n/I_0)_{theo}$  \n",
       "1,1                   2.083930  \n",
       "1,2                   1.558852  \n",
       "1,1                   3.101855  \n",
       "2,1                   2.337723  \n",
       "2,2                   1.994887  \n",
       "2,3                   1.835176  \n",
       "2,1                   2.991774  \n",
       "2,2                   2.520409  "
      ]
     },
     "execution_count": 26,
     "metadata": {},
     "output_type": "execute_result"
    }
   ],
   "source": [
    "df(np.array([vexp,dvexp,vtheo,abs(vtheo-vexp)/dvexp/20]).T, \n",
    "   index=(\"1,1\",\"1,2\",\"1,1\",\"2,1\",\"2,2\",\"2,3\",\"2,1\",\"2,2\"),\n",
    "   columns=(\"($I_n/I_0)_{exp}$\",\n",
    "            \"$\\Delta (I_n/I_0)_{exp}$\",\n",
    "            \"$(I_n/I_0)_{theo}$\",\n",
    "            \"$\\Delta (I_n/I_0)_{theo}$\"))"
   ]
  },
  {
   "cell_type": "markdown",
   "metadata": {
    "collapsed": true
   },
   "source": [
    "### Theorie"
   ]
  },
  {
   "cell_type": "code",
   "execution_count": 27,
   "metadata": {
    "collapsed": false
   },
   "outputs": [
    {
     "data": {
      "text/latex": [
       "$$A_1^{theo}=(26.3521415117\\pm 1.05408566047)\\mu m$$"
      ],
      "text/plain": [
       "<IPython.core.display.Math object>"
      ]
     },
     "metadata": {},
     "output_type": "display_data"
    }
   ],
   "source": [
    "A1, dA1 = .5 * d, .02 * d\n",
    "printResult(\"A_1^{theo}\",A1,error=dA1,unit=\"\\mu m\")"
   ]
  },
  {
   "cell_type": "code",
   "execution_count": 28,
   "metadata": {
    "collapsed": false
   },
   "outputs": [
    {
     "data": {
      "text/latex": [
       "$$A_2^{theo}=(35.8389124559\\pm 1.05408566047)\\mu m$$"
      ],
      "text/plain": [
       "<IPython.core.display.Math object>"
      ]
     },
     "metadata": {},
     "output_type": "display_data"
    }
   ],
   "source": [
    "A2, dA2 = .68 * d, .02 * d\n",
    "printResult(\"A_2^{theo}\",A2,error=dA2,unit=\"\\mu m\")"
   ]
  },
  {
   "cell_type": "markdown",
   "metadata": {},
   "source": [
    "### Experimentell"
   ]
  },
  {
   "cell_type": "code",
   "execution_count": 29,
   "metadata": {
    "collapsed": false
   },
   "outputs": [
    {
     "data": {
      "text/latex": [
       "$$A_1^{exp}=(28.8421076387\\pm 1.76305113425)\\mu m$$"
      ],
      "text/plain": [
       "<IPython.core.display.Math object>"
      ]
     },
     "metadata": {},
     "output_type": "display_data"
    }
   ],
   "source": [
    "A1 = abs(data1[0,1]-data1[1,1])*eichwert/beta\n",
    "dA1 = A1 * relErr([data1[0,2]*np.sqrt(2),dbeta],[abs(data1[0,1]-data1[1,1]),beta])\n",
    "printResult(\"A_1^{exp}\",A1,error=dA1,unit=\"\\mu m\")"
   ]
  },
  {
   "cell_type": "code",
   "execution_count": 30,
   "metadata": {
    "collapsed": false
   },
   "outputs": [
    {
     "data": {
      "text/latex": [
       "$$A_2^{exp}=(36.2705065846\\pm 1.76443302648)\\mu m$$"
      ],
      "text/plain": [
       "<IPython.core.display.Math object>"
      ]
     },
     "metadata": {},
     "output_type": "display_data"
    }
   ],
   "source": [
    "A2 = abs(data2[0,1]-data2[2,1])*eichwert/beta\n",
    "dA2 = A2 * relErr([data2[0,2]*np.sqrt(2),dbeta],[abs(data2[0,1]-data2[2,1]),beta])\n",
    "printResult(\"A_2^{exp}\",A2,error=dA2,unit=\"\\mu m\")"
   ]
  },
  {
   "cell_type": "markdown",
   "metadata": {},
   "source": [
    "## Aufgabe 4: Auflösungsgrenze des Doppelspalts"
   ]
  },
  {
   "cell_type": "markdown",
   "metadata": {},
   "source": [
    "### a) zwei Gausskurven"
   ]
  },
  {
   "cell_type": "code",
   "execution_count": 31,
   "metadata": {
    "collapsed": false
   },
   "outputs": [
    {
     "data": {
      "text/latex": [
       "$$k_{y,1}^{theo}=(11.650631016465022\\pm 1.8643602015963867)1/m m$$"
      ],
      "text/plain": [
       "<IPython.core.display.Math object>"
      ]
     },
     "metadata": {},
     "output_type": "display_data"
    }
   ],
   "source": [
    "kntheo = lambda n,d:2*np.pi*n/d\n",
    "dkntheo = lambda n,d,dd: kntheo(n,d)*dd/d\n",
    "\n",
    "printResult(\"k_{y,1}^{theo}\",kntheo(1,.5393),error=dkntheo(1,.5393,.0863),unit=\"1/m m\")"
   ]
  },
  {
   "cell_type": "code",
   "execution_count": 32,
   "metadata": {
    "collapsed": false
   },
   "outputs": [
    {
     "data": {
      "text/latex": [
       "$$k_{y,1}^{exp}=(14.84217001695965\\pm 0.6184237507066522)1/mm$$"
      ],
      "text/plain": [
       "<IPython.core.display.Math object>"
      ]
     },
     "metadata": {},
     "output_type": "display_data"
    }
   ],
   "source": [
    "knexp = lambda b,lamb,f: 2*np.pi*b/lamb/f\n",
    "dknexp = lambda b,db,lamb,f: knexp(b,lamb,f)*db/b\n",
    "\n",
    "printResult(\"k_{y,1}^{exp}\",knexp(.12,635/10**6,80),error=dknexp(.12,.005,635/10**6,80),unit=\"1/mm\")"
   ]
  },
  {
   "cell_type": "markdown",
   "metadata": {},
   "source": [
    "### b) Plateau"
   ]
  },
  {
   "cell_type": "code",
   "execution_count": 33,
   "metadata": {
    "collapsed": false
   },
   "outputs": [
    {
     "data": {
      "text/latex": [
       "$$k_{y,.284}^{theo}=(3.3087792086760657\\pm 0.5294782972533738)1/m m$$"
      ],
      "text/plain": [
       "<IPython.core.display.Math object>"
      ]
     },
     "metadata": {},
     "output_type": "display_data"
    }
   ],
   "source": [
    "printResult(\"k_{y,.284}^{theo}\",kntheo(0.284,.5393),error=dkntheo(.284,.5393,.0863),unit=\"1/m m\")"
   ]
  },
  {
   "cell_type": "code",
   "execution_count": 34,
   "metadata": {
    "collapsed": false
   },
   "outputs": [
    {
     "data": {
      "text/latex": [
       "$$k_{y,.284,1}^{exp}=(9.894780011306434\\pm 0.6184237507066521)1/mm$$"
      ],
      "text/plain": [
       "<IPython.core.display.Math object>"
      ]
     },
     "metadata": {},
     "output_type": "display_data"
    }
   ],
   "source": [
    "printResult(\"k_{y,.284,1}^{exp}\",knexp(.08,635/10**6,80),error=dknexp(.08,.005,635/10**6,80),unit=\"1/mm\")"
   ]
  },
  {
   "cell_type": "code",
   "execution_count": null,
   "metadata": {
    "collapsed": true
   },
   "outputs": [],
   "source": []
  }
 ],
 "metadata": {
  "kernelspec": {
   "display_name": "Python 3",
   "language": "python",
   "name": "python3"
  },
  "language_info": {
   "codemirror_mode": {
    "name": "ipython",
    "version": 3
   },
   "file_extension": ".py",
   "mimetype": "text/x-python",
   "name": "python",
   "nbconvert_exporter": "python",
   "pygments_lexer": "ipython3",
   "version": "3.5.1"
  }
 },
 "nbformat": 4,
 "nbformat_minor": 0
}
