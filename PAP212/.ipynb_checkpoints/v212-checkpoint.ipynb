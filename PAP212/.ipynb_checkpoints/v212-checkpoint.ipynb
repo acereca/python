{
 "cells": [
  {
   "cell_type": "markdown",
   "metadata": {},
   "source": [
    "# Notebook for experiment no. 212 - Viscosity\n"
   ]
  },
  {
   "cell_type": "code",
   "execution_count": 1,
   "metadata": {
    "collapsed": false
   },
   "outputs": [],
   "source": [
    "## using inline plots\n",
    "%matplotlib inline\n",
    "\n",
    "## importing the necessary modules\n",
    "import numpy as np\n",
    "import matplotlib.pyplot as plt\n",
    "from helper import printResult\n",
    "import uncertainties as unc\n",
    "import uncertainties.unumpy as unp\n",
    "from scipy.optimize import curve_fit"
   ]
  },
  {
   "cell_type": "markdown",
   "metadata": {},
   "source": [
    "## 1) Stokes"
   ]
  },
  {
   "cell_type": "code",
   "execution_count": 2,
   "metadata": {
    "collapsed": false
   },
   "outputs": [],
   "source": [
    "### data\n",
    "s = unc.ufloat(200, 2) #falling distance [mm]\n",
    "R = 75/2 # cylinder radius [mm]\n",
    "\n",
    "# timings\n",
    "t_4c5mm =  np.mean(unp.uarray([5.84,5.84,5.89,5.9,5.89],.2)) # \n",
    "t_4mm =    np.mean(unp.uarray([7.5,7.45,7.59,7.2,7.4],.3)) #\n",
    "t_3c5mm =  np.mean(unp.uarray([8.31,8.18,8.32,8.34,8.32],.3)) # radius 3.572mm\n",
    "t_3mm =    np.mean(unp.uarray([11.07,10.93,11.1,11.07,11.07],.4))\n",
    "t_2c5mm =  np.mean(unp.uarray([15.42,15.29,16.24,15.53,15.61],.4))\n",
    "t_2mm =    np.mean(unp.uarray([23.5,23.65,23.53,23.76,22.95],.5))\n",
    "t_1c5mm =  np.mean(unp.uarray([40.2,39.6,37.74,39.62,40.36],.5))\n",
    "t_1mm =    np.mean(unp.uarray([4*18.64,4*20.9,4*20.07,4*21.61,4*19.81],.6))\n",
    "t_0c75mm = np.mean(unp.uarray([4*33.02,4*33.01,4*30.93,4*32.8,4*32.45],.6))\n",
    "t = np.array([t_4c5mm, t_4mm, t_3c5mm, t_3mm, t_2c5mm, t_2mm, t_1c5mm, t_1mm, t_0c75mm])\n",
    "\n",
    "# radii\n",
    "r = np.array([4.5, 4, 3.572, 3, 2.5, 2, 1.5, 1, 0.75]) \n",
    "r = unp.uarray(r, r*0.01) # 1% Fehler \n",
    "\n",
    "# density in g/cm^3\n",
    "rho_k = unp.uarray([1.3625, 1.3575, 1.3775, 1.3775, 1.3775, 1.3775, 1.3775, 1.3775, 1.3925], 0.0025) *1e-3 # g/mm^3\n",
    "rho_f = unc.ufloat(1.146, 0.0005) *1e-3 # see diagramm in script (at 23.5°C ) [g/mm^3]"
   ]
  },
  {
   "cell_type": "code",
   "execution_count": 3,
   "metadata": {
    "collapsed": false
   },
   "outputs": [
    {
     "data": {
      "text/latex": [
       "$$k=(9806.1 \\pm 56.9)m^2/(s\\cdot kg)$$"
      ],
      "text/plain": [
       "<IPython.core.display.Math object>"
      ]
     },
     "metadata": {},
     "output_type": "display_data"
    }
   ],
   "source": [
    "### mean fall velocity\n",
    "v = s/t\n",
    "\n",
    "### ladenburg adjustment\n",
    "lamb = 1 + 2.1*r/R\n",
    "\n",
    "### values for plotting\n",
    "x = unp.nominal_values(r)**2\n",
    "x_err = unp.std_devs(r)**2\n",
    "y = unp.nominal_values(v/(rho_k-rho_f))\n",
    "y_err = unp.std_devs(v/(rho_k-rho_f))\n",
    "\n",
    "### corrected values for plotting\n",
    "y_corr = unp.nominal_values(v*lamb/(rho_k-rho_f))\n",
    "y_err_corr = unp.std_devs(v*lamb/(rho_k-rho_f))\n",
    "\n",
    "### linear fit\n",
    "def lin_reg(x,k):\n",
    "    return k*x\n",
    "\n",
    "popt, pcov = curve_fit(lin_reg, x, y_corr, p0=[9000])\n",
    "popt_err = np.sqrt(np.diag(pcov))\n",
    "printResult('k', popt[0], popt_err[0],unit=\"m^2/(s\\cdot kg)\",decimal=1)"
   ]
  },
  {
   "cell_type": "code",
   "execution_count": 4,
   "metadata": {
    "collapsed": false
   },
   "outputs": [
    {
     "data": {
      "text/latex": [
       "$$\\eta_{dyn} =(0.22231 \\pm 0.00129)mPa\\cdot s$$"
      ],
      "text/plain": [
       "<IPython.core.display.Math object>"
      ]
     },
     "metadata": {},
     "output_type": "display_data"
    }
   ],
   "source": [
    "# parameter-string\n",
    "par_str = r'$k=%s\\pm %s\\ \\mathrm{[\\frac{mm^2}{g \\cdot s}]}$'%(round(popt[0],1),round(popt_err[0],1))\n",
    "\n",
    "### dynamic viscosity eta\n",
    "k = unc.ufloat(popt[0], popt_err[0]) # slope\n",
    "eta = 2*9.81e3/(9*k)\n",
    "printResult('\\eta_{dyn} ', eta.n,eta.s, unit='mPa\\cdot s')"
   ]
  },
  {
   "cell_type": "code",
   "execution_count": 5,
   "metadata": {
    "collapsed": false
   },
   "outputs": [
    {
     "data": {
      "image/png": "[encoded data removed]",
      "text/plain": [
       "<matplotlib.figure.Figure at 0x7ff32c86f780>"
      ]
     },
     "metadata": {},
     "output_type": "display_data"
    }
   ],
   "source": [
    "### plotting\n",
    "fig = plt.figure(figsize=(12,9))\n",
    "ax = fig.add_subplot(111)\n",
    "ax.errorbar(x, y, yerr=y_err, xerr=x_err, fmt='r.', \n",
    "            label='$Messdaten:\\ \\\\frac{\\\\bar{v}}{\\\\varrho_K - \\\\varrho_F}$')\n",
    "ax.errorbar(x, y_corr, yerr=y_err_corr, xerr=x_err, fmt='k.', \n",
    "            label='$mit\\ Korrektur:\\ \\\\frac{\\\\bar{v}\\cdot\\\\lambda}{\\\\varrho_K - \\\\varrho_F}$')\n",
    "ax.plot(np.linspace(0,25), lin_reg(np.linspace(0,25), *popt), 'k--', \n",
    "        label='$Linearer\\ Fit:\\ k \\cdot r^2$')\n",
    "ax.text(0.6, 193000, par_str, fontsize=12)\n",
    "ax.set_title('$Plot\\ 1:\\ (korrigierte)\\ Mittlere\\ Sinkgeschwindigkeit \\\\bar{v}\\ vs.\\ Kugelradiusquadrat\\ r^2$',\n",
    "             fontsize=12)\n",
    "ax.set_xlabel('$Kugelradiusquadrat\\ r^2\\ \\mathrm{[mm^2]}$', fontsize=12)\n",
    "ax.set_ylabel('$(korrigierte)\\ Sinkgeschwindigkeit\\ \\\\frac{\\\\bar{v}}{\\\\varrho_K - \\\\varrho_F}\\ \\mathrm{[\\\\frac{mm/s}{g/mm^3}]}$',\n",
    "              fontsize=12)\n",
    "ax.grid()\n",
    "ax.legend(fontsize=12, loc=0)\n",
    "#plt.savefig('Plot1.pdf', dpi=400, format='pdf')\n",
    "plt.show()"
   ]
  },
  {
   "cell_type": "code",
   "execution_count": 6,
   "metadata": {
    "collapsed": false
   },
   "outputs": [
    {
     "data": {
      "image/png": "[encoded data removed]",
      "text/plain": [
       "<matplotlib.figure.Figure at 0x7ff321f5f1d0>"
      ]
     },
     "metadata": {},
     "output_type": "display_data"
    }
   ],
   "source": [
    "### v_lam\n",
    "v_lam = 2/9 * 9.81e3 * (rho_k-rho_f)/eta * r**2\n",
    "\n",
    "### Reynoldsnumber\n",
    "Re = rho_f*v*2*r/eta\n",
    "\n",
    "### plotting values\n",
    "y = unp.nominal_values(v/v_lam)\n",
    "y_err = unp.std_devs(v/v_lam)\n",
    "x = unp.nominal_values(Re)\n",
    "x_err = unp.std_devs(Re)\n",
    "\n",
    "### plotting\n",
    "fig = plt.figure(figsize=(12,9))\n",
    "ax = fig.add_subplot(111)\n",
    "ax.errorbar(x, y, yerr=y_err, xerr=x_err, fmt='r.', label='$velocity\\ ratios$')\n",
    "#ax.vlines(0.23, 0.71, 1.29, linestyles='--', label='$critical\\ Reynoldsnumber:\\ 0.23$')\n",
    "ax.set_xscale('log')\n",
    "ax.set_xlabel('$\\\\mathrm{log}\\ Reynoldsnumber\\ Re$', fontsize=12)\n",
    "ax.set_ylabel('$velocity\\ ratio\\ \\\\frac{v}{v_{lam}}$', fontsize=12)\n",
    "ax.set_title('$Plot\\ 2:\\ velocity\\ ratio\\ vs.\\ Reynoldsnumber$', fontsize=12)\n",
    "ax.grid()\n",
    "ax.legend()\n",
    "#plt.savefig('Plot2.pdf', dpi=400, format='pdf')\n",
    "plt.show()"
   ]
  },
  {
   "cell_type": "code",
   "execution_count": 7,
   "metadata": {
    "collapsed": false
   },
   "outputs": [
    {
     "data": {
      "text/html": [
       "<div>\n",
       "<table border=\"1\" class=\"dataframe\">\n",
       "  <thead>\n",
       "    <tr style=\"text-align: right;\">\n",
       "      <th></th>\n",
       "      <th>Re</th>\n",
       "      <th>v$_{lam}$</th>\n",
       "      <th>v</th>\n",
       "    </tr>\n",
       "  </thead>\n",
       "  <tbody>\n",
       "    <tr>\n",
       "      <th>0</th>\n",
       "      <td>1.580+/-0.034</td>\n",
       "      <td>43.0+/-1.0</td>\n",
       "      <td>34.1+/-0.6</td>\n",
       "    </tr>\n",
       "    <tr>\n",
       "      <th>1</th>\n",
       "      <td>1.110+/-0.026</td>\n",
       "      <td>33.2+/-0.8</td>\n",
       "      <td>26.9+/-0.6</td>\n",
       "    </tr>\n",
       "    <tr>\n",
       "      <th>2</th>\n",
       "      <td>0.888+/-0.020</td>\n",
       "      <td>29.0+/-0.7</td>\n",
       "      <td>24.1+/-0.5</td>\n",
       "    </tr>\n",
       "    <tr>\n",
       "      <th>3</th>\n",
       "      <td>0.560+/-0.012</td>\n",
       "      <td>20.4+/-0.5</td>\n",
       "      <td>18.10+/-0.34</td>\n",
       "    </tr>\n",
       "    <tr>\n",
       "      <th>4</th>\n",
       "      <td>0.330+/-0.006</td>\n",
       "      <td>14.19+/-0.33</td>\n",
       "      <td>12.81+/-0.19</td>\n",
       "    </tr>\n",
       "    <tr>\n",
       "      <th>5</th>\n",
       "      <td>0.1757+/-0.0032</td>\n",
       "      <td>9.08+/-0.21</td>\n",
       "      <td>8.52+/-0.12</td>\n",
       "    </tr>\n",
       "    <tr>\n",
       "      <th>6</th>\n",
       "      <td>0.0783+/-0.0013</td>\n",
       "      <td>5.11+/-0.12</td>\n",
       "      <td>5.06+/-0.06</td>\n",
       "    </tr>\n",
       "    <tr>\n",
       "      <th>7</th>\n",
       "      <td>0.0255+/-0.0004</td>\n",
       "      <td>2.27+/-0.05</td>\n",
       "      <td>2.475+/-0.026</td>\n",
       "    </tr>\n",
       "    <tr>\n",
       "      <th>8</th>\n",
       "      <td>0.01192+/-0.00018</td>\n",
       "      <td>1.360+/-0.032</td>\n",
       "      <td>1.541+/-0.016</td>\n",
       "    </tr>\n",
       "  </tbody>\n",
       "</table>\n",
       "</div>"
      ],
      "text/plain": [
       "                  Re      v$_{lam}$              v\n",
       "0      1.580+/-0.034     43.0+/-1.0     34.1+/-0.6\n",
       "1      1.110+/-0.026     33.2+/-0.8     26.9+/-0.6\n",
       "2      0.888+/-0.020     29.0+/-0.7     24.1+/-0.5\n",
       "3      0.560+/-0.012     20.4+/-0.5   18.10+/-0.34\n",
       "4      0.330+/-0.006   14.19+/-0.33   12.81+/-0.19\n",
       "5    0.1757+/-0.0032    9.08+/-0.21    8.52+/-0.12\n",
       "6    0.0783+/-0.0013    5.11+/-0.12    5.06+/-0.06\n",
       "7    0.0255+/-0.0004    2.27+/-0.05  2.475+/-0.026\n",
       "8  0.01192+/-0.00018  1.360+/-0.032  1.541+/-0.016"
      ]
     },
     "execution_count": 7,
     "metadata": {},
     "output_type": "execute_result"
    }
   ],
   "source": [
    "from pandas import DataFrame\n",
    "DataFrame(np.array([Re,v_lam,v]).T, columns=(\"Re\",\"v$_{lam}$\",\"v\"))"
   ]
  },
  {
   "cell_type": "markdown",
   "metadata": {
    "collapsed": true
   },
   "source": [
    "## 2) Hagen-Poiseulle"
   ]
  },
  {
   "cell_type": "code",
   "execution_count": 8,
   "metadata": {
    "collapsed": false
   },
   "outputs": [
    {
     "data": {
      "text/plain": [
       "array([0.18863164904576424+/-0.011199113294229695,\n",
       "       0.1943817587936277+/-0.011271469669879792,\n",
       "       0.20139408775443673+/-0.011361993223781917,\n",
       "       0.2022355672297339+/-0.011373022128272547], dtype=object)"
      ]
     },
     "execution_count": 8,
     "metadata": {},
     "output_type": "execute_result"
    }
   ],
   "source": [
    "g = 9.81                       # m/s**2\n",
    "h_bar = unc.ufloat(502,.7)     # mm\n",
    "R_k = .5 * unc.ufloat(1.5,.01) # mm\n",
    "L_k = unc.ufloat(100,.5)       # mm\n",
    "\n",
    "volumes = unp.uarray([5,10,15,20,25],0)\n",
    "times = unp.uarray([136.7,271.2,409.8,553.4,697.6],5)\n",
    "deltatimes = unp.uarray([times[i+1].n-times[i].n for i in range(4)],7.1)\n",
    "viscosity = np.pi * rho_f*g*h_bar*R_k**4/8/L_k/(5/deltatimes)\n",
    "viscosity"
   ]
  },
  {
   "cell_type": "code",
   "execution_count": 9,
   "metadata": {
    "collapsed": false
   },
   "outputs": [
    {
     "data": {
      "text/html": [
       "<div>\n",
       "<table border=\"1\" class=\"dataframe\">\n",
       "  <thead>\n",
       "    <tr style=\"text-align: right;\">\n",
       "      <th></th>\n",
       "      <th>dt</th>\n",
       "      <th>$\\eta$</th>\n",
       "    </tr>\n",
       "  </thead>\n",
       "  <tbody>\n",
       "    <tr>\n",
       "      <th>0</th>\n",
       "      <td>134+/-7</td>\n",
       "      <td>0.189+/-0.011</td>\n",
       "    </tr>\n",
       "    <tr>\n",
       "      <th>1</th>\n",
       "      <td>139+/-7</td>\n",
       "      <td>0.194+/-0.011</td>\n",
       "    </tr>\n",
       "    <tr>\n",
       "      <th>2</th>\n",
       "      <td>144+/-7</td>\n",
       "      <td>0.201+/-0.011</td>\n",
       "    </tr>\n",
       "    <tr>\n",
       "      <th>3</th>\n",
       "      <td>144+/-7</td>\n",
       "      <td>0.202+/-0.011</td>\n",
       "    </tr>\n",
       "  </tbody>\n",
       "</table>\n",
       "</div>"
      ],
      "text/plain": [
       "        dt         $\\eta$\n",
       "0  134+/-7  0.189+/-0.011\n",
       "1  139+/-7  0.194+/-0.011\n",
       "2  144+/-7  0.201+/-0.011\n",
       "3  144+/-7  0.202+/-0.011"
      ]
     },
     "execution_count": 9,
     "metadata": {},
     "output_type": "execute_result"
    }
   ],
   "source": [
    "DataFrame(np.array([deltatimes,viscosity]).T, columns = (\"dt\", \"$\\eta$\"))"
   ]
  },
  {
   "cell_type": "code",
   "execution_count": 10,
   "metadata": {
    "collapsed": false
   },
   "outputs": [
    {
     "data": {
      "text/latex": [
       "$$\\overline\\eta=(197.0 \\pm 7.0)mPa\\cdot s$$"
      ],
      "text/plain": [
       "<IPython.core.display.Math object>"
      ]
     },
     "metadata": {},
     "output_type": "display_data"
    }
   ],
   "source": [
    "eta_bar = .25* (np.sum(viscosity)) #Pa*s\n",
    "printResult(\"\\overline\\eta\", eta_bar.n*1000, eta_bar.s*1000, decimal=0, unit = \"mPa\\cdot s\")"
   ]
  },
  {
   "cell_type": "code",
   "execution_count": 11,
   "metadata": {
    "collapsed": false
   },
   "outputs": [
    {
     "data": {
      "text/latex": [
       "$$\\overline{dt}=(140.225 \\pm 3.55)s$$"
      ],
      "text/plain": [
       "<IPython.core.display.Math object>"
      ]
     },
     "metadata": {},
     "output_type": "display_data"
    },
    {
     "data": {
      "text/latex": [
       "$$Re=0.176 \\pm 0.011$$"
      ],
      "text/plain": [
       "<IPython.core.display.Math object>"
      ]
     },
     "metadata": {},
     "output_type": "display_data"
    }
   ],
   "source": [
    "re = 2*rho_f*5/np.pi/eta_bar/R_k*1000/np.mean(deltatimes) # *1000 for R_k in mm\n",
    "printResult(\"\\overline{dt}\",np.mean(deltatimes).n,np.mean(deltatimes).s,unit = \"s\")\n",
    "printResult(\"Re\",re.n,re.s,decimal=3)"
   ]
  },
  {
   "cell_type": "code",
   "execution_count": null,
   "metadata": {
    "collapsed": true
   },
   "outputs": [],
   "source": []
  }
 ],
 "metadata": {
  "kernelspec": {
   "display_name": "Python 3",
   "language": "python",
   "name": "python3"
  },
  "language_info": {
   "codemirror_mode": {
    "name": "ipython",
    "version": 3
   },
   "file_extension": ".py",
   "mimetype": "text/x-python",
   "name": "python",
   "nbconvert_exporter": "python",
   "pygments_lexer": "ipython3",
   "version": "3.5.1"
  }
 },
 "nbformat": 4,
 "nbformat_minor": 0
}
